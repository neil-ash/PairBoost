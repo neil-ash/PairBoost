{
 "cells": [
  {
   "cell_type": "code",
   "execution_count": 1,
   "metadata": {},
   "outputs": [],
   "source": [
    "import numpy as np\n",
    "import pandas as pd\n",
    "from sklearn.datasets import load_svmlight_file\n",
    "from sklearn.model_selection import train_test_split\n",
    "import sys; sys.path.insert(0,'..')\n",
    "from main import *"
   ]
  },
  {
   "cell_type": "code",
   "execution_count": 2,
   "metadata": {},
   "outputs": [],
   "source": [
    "X = np.load('../data/susy/X.npy', allow_pickle=True)\n",
    "y = np.load('../data/susy/y.npy', allow_pickle=True)\n",
    "\n",
    "X_train, X_test, y_train, y_test = train_test_split(X, y, train_size=0.5, stratify=y, \n",
    "                                                    shuffle=True, random_state=1)"
   ]
  },
  {
   "cell_type": "markdown",
   "metadata": {},
   "source": [
    "**Note that this dataset has <5000 points in the training set, need to modify `train_size` and `su_cutoff` below**"
   ]
  },
  {
   "cell_type": "code",
   "execution_count": 3,
   "metadata": {},
   "outputs": [
    {
     "name": "stdout",
     "output_type": "stream",
     "text": [
      "----- SU -----\n",
      "Estimated prior: 0.54\n",
      "\n",
      "SL\n",
      "SU accuracy: 0.53\n",
      "\n",
      "DH\n",
      "SU accuracy: 0.50\n",
      "\n",
      "----- PairBoost -----\n",
      "PRELIMINARY\n",
      "Training accuracy of supervised SVM: 0.79\n",
      "\n",
      "GENERATE W\n",
      "[[-1. -1.]\n",
      " [-1.  1.]\n",
      " [ 1. -1.]\n",
      " [ 1.  1.]] [135 123 122 120]\n",
      "Training accuracy of pairwise rank SVM: 0.98\n",
      "\n"
     ]
    },
    {
     "name": "stderr",
     "output_type": "stream",
     "text": [
      "/Users/Ashtekar15/opt/anaconda3/lib/python3.7/site-packages/sklearn/svm/_base.py:231: ConvergenceWarning: Solver terminated early (max_iter=1000).  Consider pre-processing your data with StandardScaler or MinMaxScaler.\n",
      "  % self.max_iter, ConvergenceWarning)\n"
     ]
    },
    {
     "name": "stdout",
     "output_type": "stream",
     "text": [
      "LINEAR SVM SUBMODELS\n",
      "Using 20 classifiers and sample proportion of 1\n",
      "t\tTrain\t\tTest\n",
      "1\t0.78\t\t0.78\n",
      "2\t0.78\t\t0.77\n",
      "3\t0.78\t\t0.77\n",
      "4\t0.78\t\t0.77\n",
      "5\t0.78\t\t0.77\n",
      "6\t0.78\t\t0.77\n",
      "7\t0.78\t\t0.77\n",
      "8\t0.78\t\t0.77\n",
      "9\t0.78\t\t0.77\n",
      "10\t0.78\t\t0.77\n",
      "11\t0.78\t\t0.77\n",
      "12\t0.78\t\t0.77\n",
      "13\t0.78\t\t0.77\n",
      "14\t0.78\t\t0.77\n",
      "15\t0.78\t\t0.77\n",
      "16\t0.78\t\t0.77\n",
      "17\t0.78\t\t0.77\n",
      "18\t0.78\t\t0.77\n",
      "19\t0.78\t\t0.77\n",
      "20\t0.78\t\t0.77\n",
      "t = 1 was best iteration with accuracy 0.78\n",
      "\n",
      "LINEAR SVM SUBMODELS\n",
      "Using 20 classifiers and sample proportion of 1\n",
      "t\tTrain\t\tTest\n",
      "1\t0.78\t\t0.77\n",
      "2\t0.78\t\t0.77\n",
      "3\t0.78\t\t0.77\n",
      "4\t0.78\t\t0.77\n",
      "5\t0.78\t\t0.77\n",
      "6\t0.78\t\t0.77\n",
      "7\t0.77\t\t0.77\n",
      "8\t0.77\t\t0.77\n",
      "9\t0.77\t\t0.77\n",
      "10\t0.78\t\t0.77\n",
      "11\t0.78\t\t0.77\n",
      "12\t0.77\t\t0.77\n",
      "13\t0.78\t\t0.77\n"
     ]
    },
    {
     "name": "stderr",
     "output_type": "stream",
     "text": [
      "/Users/Ashtekar15/opt/anaconda3/lib/python3.7/site-packages/sklearn/svm/_base.py:947: ConvergenceWarning: Liblinear failed to converge, increase the number of iterations.\n",
      "  \"the number of iterations.\", ConvergenceWarning)\n"
     ]
    },
    {
     "name": "stdout",
     "output_type": "stream",
     "text": [
      "14\t0.78\t\t0.77\n",
      "15\t0.77\t\t0.77\n",
      "16\t0.77\t\t0.77\n",
      "17\t0.77\t\t0.77\n",
      "18\t0.77\t\t0.77\n",
      "19\t0.78\t\t0.77\n",
      "20\t0.78\t\t0.77\n",
      "t = 1 was best iteration with accuracy 0.77\n",
      "\n",
      "LINEAR SVM SUBMODELS\n",
      "Using 20 classifiers and sample proportion of 1\n",
      "t\tTrain\t\tTest\n",
      "1\t0.78\t\t0.77\n",
      "2\t0.78\t\t0.77\n",
      "3\t0.78\t\t0.77\n",
      "4\t0.78\t\t0.77\n",
      "5\t0.78\t\t0.77\n",
      "6\t0.78\t\t0.77\n",
      "7\t0.78\t\t0.77\n"
     ]
    },
    {
     "name": "stderr",
     "output_type": "stream",
     "text": [
      "/Users/Ashtekar15/opt/anaconda3/lib/python3.7/site-packages/sklearn/svm/_base.py:947: ConvergenceWarning: Liblinear failed to converge, increase the number of iterations.\n",
      "  \"the number of iterations.\", ConvergenceWarning)\n",
      "/Users/Ashtekar15/opt/anaconda3/lib/python3.7/site-packages/sklearn/svm/_base.py:947: ConvergenceWarning: Liblinear failed to converge, increase the number of iterations.\n",
      "  \"the number of iterations.\", ConvergenceWarning)\n"
     ]
    },
    {
     "name": "stdout",
     "output_type": "stream",
     "text": [
      "8\t0.78\t\t0.77\n",
      "9\t0.78\t\t0.77\n",
      "10\t0.78\t\t0.77\n",
      "11\t0.78\t\t0.77\n",
      "12\t0.78\t\t0.77\n",
      "13\t0.78\t\t0.77\n",
      "14\t0.77\t\t0.77\n",
      "15\t0.77\t\t0.77\n",
      "16\t0.78\t\t0.77\n",
      "17\t0.78\t\t0.77\n",
      "18\t0.78\t\t0.77\n",
      "19\t0.78\t\t0.77\n",
      "20\t0.78\t\t0.77\n",
      "t = 1 was best iteration with accuracy 0.77\n",
      "\n",
      "LINEAR SVM SUBMODELS\n",
      "Using 20 classifiers and sample proportion of 1\n",
      "t\tTrain\t\tTest\n",
      "1\t0.78\t\t0.77\n",
      "2\t0.78\t\t0.77\n",
      "3\t0.78\t\t0.77\n"
     ]
    },
    {
     "name": "stderr",
     "output_type": "stream",
     "text": [
      "/Users/Ashtekar15/opt/anaconda3/lib/python3.7/site-packages/sklearn/svm/_base.py:947: ConvergenceWarning: Liblinear failed to converge, increase the number of iterations.\n",
      "  \"the number of iterations.\", ConvergenceWarning)\n"
     ]
    },
    {
     "name": "stdout",
     "output_type": "stream",
     "text": [
      "4\t0.78\t\t0.77\n",
      "5\t0.78\t\t0.77\n",
      "6\t0.78\t\t0.77\n",
      "7\t0.78\t\t0.77\n",
      "8\t0.78\t\t0.77\n",
      "9\t0.78\t\t0.77\n",
      "10\t0.78\t\t0.77\n",
      "11\t0.78\t\t0.77\n",
      "12\t0.78\t\t0.78\n",
      "13\t0.78\t\t0.77\n",
      "14\t0.78\t\t0.77\n",
      "15\t0.78\t\t0.77\n",
      "16\t0.78\t\t0.77\n",
      "17\t0.78\t\t0.77\n",
      "18\t0.78\t\t0.77\n",
      "19\t0.78\t\t0.77\n",
      "20\t0.78\t\t0.77\n",
      "t = 2 was best iteration with accuracy 0.77\n",
      "\n",
      "LINEAR SVM SUBMODELS\n",
      "Using 20 classifiers and sample proportion of 1\n",
      "t\tTrain\t\tTest\n",
      "1\t0.78\t\t0.78\n",
      "2\t0.79\t\t0.78\n",
      "3\t0.78\t\t0.77\n",
      "4\t0.78\t\t0.77\n",
      "5\t0.78\t\t0.77\n",
      "6\t0.78\t\t0.77\n",
      "7\t0.78\t\t0.77\n",
      "8\t0.78\t\t0.77\n",
      "9\t0.78\t\t0.77\n",
      "10\t0.78\t\t0.77\n",
      "11\t0.78\t\t0.77\n",
      "12\t0.78\t\t0.77\n",
      "13\t0.78\t\t0.77\n",
      "14\t0.78\t\t0.77\n",
      "15\t0.78\t\t0.77\n",
      "16\t0.78\t\t0.77\n",
      "17\t0.78\t\t0.76\n",
      "18\t0.78\t\t0.76\n",
      "19\t0.78\t\t0.77\n",
      "20\t0.78\t\t0.77\n",
      "t = 2 was best iteration with accuracy 0.78\n",
      "\n",
      "LINEAR SVM SUBMODELS\n",
      "Using 20 classifiers and sample proportion of 1\n"
     ]
    },
    {
     "name": "stderr",
     "output_type": "stream",
     "text": [
      "/Users/Ashtekar15/opt/anaconda3/lib/python3.7/site-packages/sklearn/svm/_base.py:947: ConvergenceWarning: Liblinear failed to converge, increase the number of iterations.\n",
      "  \"the number of iterations.\", ConvergenceWarning)\n"
     ]
    },
    {
     "name": "stdout",
     "output_type": "stream",
     "text": [
      "t\tTrain\t\tTest\n",
      "1\t0.77\t\t0.77\n",
      "2\t0.78\t\t0.77\n",
      "3\t0.77\t\t0.77\n",
      "4\t0.78\t\t0.77\n",
      "5\t0.78\t\t0.77\n",
      "6\t0.78\t\t0.77\n",
      "7\t0.78\t\t0.77\n",
      "8\t0.78\t\t0.77\n",
      "9\t0.78\t\t0.77\n",
      "10\t0.78\t\t0.77\n",
      "11\t0.78\t\t0.77\n",
      "12\t0.78\t\t0.77\n",
      "13\t0.78\t\t0.77\n",
      "14\t0.78\t\t0.77\n",
      "15\t0.78\t\t0.77\n",
      "16\t0.78\t\t0.77\n",
      "17\t0.78\t\t0.77\n",
      "18\t0.78\t\t0.77\n",
      "19\t0.78\t\t0.77\n",
      "20\t0.78\t\t0.77\n",
      "t = 4 was best iteration with accuracy 0.77\n",
      "\n",
      "LINEAR SVM SUBMODELS\n",
      "Using 20 classifiers and sample proportion of 1\n",
      "t\tTrain\t\tTest\n",
      "1\t0.78\t\t0.77\n"
     ]
    },
    {
     "name": "stderr",
     "output_type": "stream",
     "text": [
      "/Users/Ashtekar15/opt/anaconda3/lib/python3.7/site-packages/sklearn/svm/_base.py:947: ConvergenceWarning: Liblinear failed to converge, increase the number of iterations.\n",
      "  \"the number of iterations.\", ConvergenceWarning)\n"
     ]
    },
    {
     "name": "stdout",
     "output_type": "stream",
     "text": [
      "2\t0.78\t\t0.77\n",
      "3\t0.78\t\t0.77\n",
      "4\t0.78\t\t0.77\n",
      "5\t0.78\t\t0.77\n",
      "6\t0.78\t\t0.77\n",
      "7\t0.78\t\t0.77\n",
      "8\t0.78\t\t0.77\n",
      "9\t0.78\t\t0.77\n",
      "10\t0.78\t\t0.77\n",
      "11\t0.78\t\t0.77\n",
      "12\t0.78\t\t0.77\n",
      "13\t0.78\t\t0.77\n",
      "14\t0.78\t\t0.77\n",
      "15\t0.78\t\t0.77\n"
     ]
    },
    {
     "name": "stderr",
     "output_type": "stream",
     "text": [
      "/Users/Ashtekar15/opt/anaconda3/lib/python3.7/site-packages/sklearn/svm/_base.py:947: ConvergenceWarning: Liblinear failed to converge, increase the number of iterations.\n",
      "  \"the number of iterations.\", ConvergenceWarning)\n"
     ]
    },
    {
     "name": "stdout",
     "output_type": "stream",
     "text": [
      "16\t0.77\t\t0.77\n",
      "17\t0.77\t\t0.77\n",
      "18\t0.78\t\t0.77\n",
      "19\t0.78\t\t0.77\n",
      "20\t0.78\t\t0.77\n",
      "t = 2 was best iteration with accuracy 0.77\n",
      "\n",
      "LINEAR SVM SUBMODELS\n",
      "Using 20 classifiers and sample proportion of 1\n",
      "t\tTrain\t\tTest\n",
      "1\t0.78\t\t0.77\n",
      "2\t0.78\t\t0.77\n",
      "3\t0.78\t\t0.78\n",
      "4\t0.78\t\t0.77\n",
      "5\t0.78\t\t0.77\n",
      "6\t0.78\t\t0.78\n",
      "7\t0.77\t\t0.77\n",
      "8\t0.78\t\t0.77\n",
      "9\t0.77\t\t0.77\n",
      "10\t0.77\t\t0.76\n",
      "11\t0.78\t\t0.77\n",
      "12\t0.78\t\t0.77\n",
      "13\t0.78\t\t0.77\n",
      "14\t0.78\t\t0.77\n",
      "15\t0.78\t\t0.77\n",
      "16\t0.78\t\t0.76\n",
      "17\t0.78\t\t0.77\n",
      "18\t0.78\t\t0.77\n",
      "19\t0.78\t\t0.77\n",
      "20\t0.78\t\t0.77\n",
      "t = 1 was best iteration with accuracy 0.77\n",
      "\n",
      "LINEAR SVM SUBMODELS\n",
      "Using 20 classifiers and sample proportion of 1\n",
      "t\tTrain\t\tTest\n",
      "1\t0.78\t\t0.76\n",
      "2\t0.79\t\t0.77\n",
      "3\t0.78\t\t0.77\n",
      "4\t0.78\t\t0.77\n",
      "5\t0.78\t\t0.77\n",
      "6\t0.78\t\t0.77\n",
      "7\t0.78\t\t0.77\n",
      "8\t0.78\t\t0.77\n",
      "9\t0.78\t\t0.77\n",
      "10\t0.78\t\t0.77\n",
      "11\t0.78\t\t0.77\n",
      "12\t0.78\t\t0.77\n",
      "13\t0.78\t\t0.77\n",
      "14\t0.78\t\t0.77\n"
     ]
    },
    {
     "name": "stderr",
     "output_type": "stream",
     "text": [
      "/Users/Ashtekar15/opt/anaconda3/lib/python3.7/site-packages/sklearn/svm/_base.py:947: ConvergenceWarning: Liblinear failed to converge, increase the number of iterations.\n",
      "  \"the number of iterations.\", ConvergenceWarning)\n"
     ]
    },
    {
     "name": "stdout",
     "output_type": "stream",
     "text": [
      "15\t0.78\t\t0.77\n",
      "16\t0.78\t\t0.77\n",
      "17\t0.78\t\t0.77\n",
      "18\t0.78\t\t0.77\n",
      "19\t0.78\t\t0.77\n",
      "20\t0.78\t\t0.77\n",
      "t = 2 was best iteration with accuracy 0.77\n",
      "\n",
      "LINEAR SVM SUBMODELS\n",
      "Using 20 classifiers and sample proportion of 1\n",
      "t\tTrain\t\tTest\n",
      "1\t0.79\t\t0.76\n",
      "2\t0.79\t\t0.76\n",
      "3\t0.78\t\t0.76\n",
      "4\t0.78\t\t0.77\n",
      "5\t0.78\t\t0.77\n",
      "6\t0.78\t\t0.77\n",
      "7\t0.78\t\t0.77\n",
      "8\t0.78\t\t0.77\n",
      "9\t0.78\t\t0.77\n",
      "10\t0.78\t\t0.77\n",
      "11\t0.78\t\t0.77\n",
      "12\t0.78\t\t0.77\n",
      "13\t0.78\t\t0.77\n",
      "14\t0.78\t\t0.77\n",
      "15\t0.78\t\t0.77\n",
      "16\t0.78\t\t0.77\n",
      "17\t0.78\t\t0.77\n",
      "18\t0.78\t\t0.77\n",
      "19\t0.78\t\t0.77\n",
      "20\t0.78\t\t0.77\n",
      "t = 1 was best iteration with accuracy 0.76\n",
      "\n"
     ]
    }
   ],
   "source": [
    "SL, DH, PB = prior_comparison_experiment(X_train, y_train, X_test, y_test, prior=0.5, \n",
    "                                         train_size=2000, su_cutoff=1000)"
   ]
  },
  {
   "cell_type": "code",
   "execution_count": 4,
   "metadata": {},
   "outputs": [
    {
     "name": "stdout",
     "output_type": "stream",
     "text": [
      "SL: 0.534\n",
      "DH: 0.500\n",
      "PB: 0.773\n"
     ]
    }
   ],
   "source": [
    "prior_results(SL, DH, PB)"
   ]
  },
  {
   "cell_type": "code",
   "execution_count": 5,
   "metadata": {},
   "outputs": [
    {
     "data": {
      "text/plain": [
       "0.5418000000000001"
      ]
     },
     "execution_count": 5,
     "metadata": {},
     "output_type": "execute_result"
    }
   ],
   "source": [
    "# Check accuracy of guessing majority\n",
    "eq1 = np.sum(y == 1) / y.size\n",
    "max(eq1, 1 - eq1)"
   ]
  }
 ],
 "metadata": {
  "kernelspec": {
   "display_name": "Python 3",
   "language": "python",
   "name": "python3"
  },
  "language_info": {
   "codemirror_mode": {
    "name": "ipython",
    "version": 3
   },
   "file_extension": ".py",
   "mimetype": "text/x-python",
   "name": "python",
   "nbconvert_exporter": "python",
   "pygments_lexer": "ipython3",
   "version": "3.7.7"
  }
 },
 "nbformat": 4,
 "nbformat_minor": 2
}
