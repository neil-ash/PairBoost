{
 "cells": [
  {
   "cell_type": "code",
   "execution_count": 2,
   "metadata": {},
   "outputs": [],
   "source": [
    "import numpy as np\n",
    "import pandas as pd\n",
    "from sklearn.datasets import load_svmlight_file\n",
    "from sklearn.model_selection import train_test_split\n",
    "import sys; sys.path.insert(0,'..')\n",
    "from main import *"
   ]
  },
  {
   "cell_type": "code",
   "execution_count": 3,
   "metadata": {},
   "outputs": [],
   "source": [
    "\"\"\" CONSTANTS \"\"\"\n",
    "TRAIN_SIZE = 1000\n",
    "NUM_LABELS = int(TRAIN_SIZE / 2)\n",
    "TEST_SIZE = 100"
   ]
  },
  {
   "cell_type": "code",
   "execution_count": 7,
   "metadata": {},
   "outputs": [],
   "source": [
    "X, y = load_svmlight_file('../data/phishing/phishing.txt')\n",
    "X = X.toarray()\n",
    "\n",
    "# Convert labels from {0, 1} to {-1, 1}\n",
    "y = y * 2 - 1\n",
    "\n",
    "X_train, X_test, y_train, y_test = train_test_split(X, y, test_size=0.2, stratify=y)\n",
    "\n",
    "# Only use some of training data\n",
    "train_samples = np.random.permutation(X_train.shape[0])[:TRAIN_SIZE]\n",
    "X_train = X_train[train_samples]\n",
    "y_train = y_train[train_samples]\n",
    "\n",
    "# Only use some of testing data\n",
    "test_samples = np.random.permutation(X_test.shape[0])[:TEST_SIZE]\n",
    "X_test = X_test[test_samples]\n",
    "y_test = y_test[test_samples]"
   ]
  },
  {
   "cell_type": "code",
   "execution_count": 9,
   "metadata": {},
   "outputs": [],
   "source": [
    "W = generate_W(y_train)\n",
    "W = clear_W(W, NUM_LABELS)"
   ]
  },
  {
   "cell_type": "code",
   "execution_count": 10,
   "metadata": {},
   "outputs": [
    {
     "name": "stdout",
     "output_type": "stream",
     "text": [
      "LINEAR SVM SUBMODELS\n",
      "Using 20 classifiers, sample proportion of 4, and random seed 1\n",
      "t\tTrain\t\tTest\n",
      "1\t0.935\t\t0.970\n",
      "2\t0.934\t\t0.970\n",
      "3\t0.935\t\t0.970\n",
      "4\t0.934\t\t0.970\n",
      "5\t0.935\t\t0.970\n",
      "6\t0.934\t\t0.970\n",
      "7\t0.934\t\t0.970\n",
      "8\t0.934\t\t0.960\n",
      "9\t0.931\t\t0.960\n",
      "10\t0.930\t\t0.960\n",
      "11\t0.931\t\t0.960\n",
      "12\t0.931\t\t0.960\n",
      "13\t0.929\t\t0.960\n",
      "14\t0.929\t\t0.960\n",
      "15\t0.929\t\t0.960\n",
      "16\t0.929\t\t0.960\n",
      "17\t0.929\t\t0.960\n",
      "18\t0.929\t\t0.960\n",
      "19\t0.929\t\t0.960\n",
      "20\t0.928\t\t0.960\n",
      "Done!\n"
     ]
    }
   ],
   "source": [
    "svm_lambdaboost(X_train, y_train, X_test, y_test, W);"
   ]
  },
  {
   "cell_type": "code",
   "execution_count": 11,
   "metadata": {},
   "outputs": [
    {
     "name": "stdout",
     "output_type": "stream",
     "text": [
      "DECISION TREE SUBMODELS\n",
      "Using 20 classifiers, sample proportion of 4, and random seed 1\n",
      "t\tTrain\t\tTest\n",
      "1\t0.927\t\t0.970\n",
      "2\t0.927\t\t0.970\n",
      "3\t0.917\t\t0.890\n",
      "4\t0.936\t\t0.970\n",
      "5\t0.936\t\t0.970\n",
      "6\t0.941\t\t0.960\n",
      "7\t0.942\t\t0.960\n",
      "8\t0.949\t\t0.960\n",
      "9\t0.949\t\t0.970\n",
      "10\t0.956\t\t0.970\n",
      "11\t0.953\t\t0.970\n",
      "12\t0.954\t\t0.970\n",
      "13\t0.950\t\t0.970\n",
      "14\t0.955\t\t0.970\n",
      "15\t0.955\t\t0.970\n",
      "16\t0.957\t\t0.960\n",
      "17\t0.954\t\t0.960\n",
      "18\t0.957\t\t0.970\n",
      "19\t0.951\t\t0.960\n",
      "20\t0.961\t\t0.970\n",
      "Done!\n"
     ]
    }
   ],
   "source": [
    "tree_lambdaboost(X_train, y_train, X_test, y_test, W);"
   ]
  },
  {
   "cell_type": "code",
   "execution_count": 12,
   "metadata": {},
   "outputs": [
    {
     "name": "stdout",
     "output_type": "stream",
     "text": [
      "BASELINES ACCURACIES\n",
      "Guess Majority:\t 0.600\n",
      "KNN:\t\t 0.970\n",
      "Linear SVM:\t 0.970\n",
      "Random Forest:\t 0.940\n",
      "XGBoost:\t 0.940\n"
     ]
    }
   ],
   "source": [
    "baselines(X_train, y_train, X_test, y_test)"
   ]
  }
 ],
 "metadata": {
  "kernelspec": {
   "display_name": "Python 3",
   "language": "python",
   "name": "python3"
  },
  "language_info": {
   "codemirror_mode": {
    "name": "ipython",
    "version": 3
   },
   "file_extension": ".py",
   "mimetype": "text/x-python",
   "name": "python",
   "nbconvert_exporter": "python",
   "pygments_lexer": "ipython3",
   "version": "3.7.7"
  }
 },
 "nbformat": 4,
 "nbformat_minor": 2
}
