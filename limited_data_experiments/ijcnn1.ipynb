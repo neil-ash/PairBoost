{
 "cells": [
  {
   "cell_type": "code",
   "execution_count": 1,
   "metadata": {},
   "outputs": [],
   "source": [
    "import numpy as np\n",
    "import pandas as pd\n",
    "from sklearn.datasets import load_svmlight_file\n",
    "from sklearn.model_selection import train_test_split\n",
    "import sys; sys.path.insert(0,'..')\n",
    "from main import *"
   ]
  },
  {
   "cell_type": "code",
   "execution_count": 48,
   "metadata": {},
   "outputs": [],
   "source": [
    "X_train, y_train = load_svmlight_file('../data/ijcnn1/ijcnn1.tr')\n",
    "X_train = X_train.toarray()\n",
    "\n",
    "X_test, y_test = load_svmlight_file('../data/ijcnn1/ijcnn1.t')\n",
    "X_test = X_test.toarray()\n",
    "\n",
    "# Only use some of training data\n",
    "sample_size = 5000\n",
    "random_samples = np.random.permutation(X_train.shape[0])[:sample_size]\n",
    "X_train = X_train[random_samples]\n",
    "y_train = y_train[random_samples]"
   ]
  },
  {
   "cell_type": "code",
   "execution_count": 12,
   "metadata": {},
   "outputs": [],
   "source": [
    "W = generate_W(y_train)"
   ]
  },
  {
   "cell_type": "code",
   "execution_count": 14,
   "metadata": {},
   "outputs": [
    {
     "name": "stdout",
     "output_type": "stream",
     "text": [
      "LINEAR SVM SUBMODELS\n",
      "Using 20 classifiers, sample proportion of 4, and random seed 1\n",
      "t\tTrain\t\tTest\n",
      "1\t0.858\t\t0.822\n",
      "2\t0.861\t\t0.823\n",
      "3\t0.862\t\t0.821\n",
      "4\t0.862\t\t0.820\n",
      "5\t0.862\t\t0.820\n",
      "6\t0.863\t\t0.819\n",
      "7\t0.862\t\t0.819\n",
      "8\t0.862\t\t0.817\n",
      "9\t0.862\t\t0.817\n",
      "10\t0.862\t\t0.816\n",
      "11\t0.862\t\t0.816\n",
      "12\t0.862\t\t0.815\n",
      "13\t0.861\t\t0.815\n",
      "14\t0.861\t\t0.815\n",
      "15\t0.861\t\t0.815\n",
      "16\t0.861\t\t0.814\n",
      "17\t0.862\t\t0.814\n",
      "18\t0.862\t\t0.814\n",
      "19\t0.862\t\t0.814\n",
      "20\t0.862\t\t0.814\n",
      "Alpha -0.008, terminated\n",
      "Done!\n"
     ]
    }
   ],
   "source": [
    "svm_lambdaboost(X_train, y_train, X_test, y_test, W);"
   ]
  },
  {
   "cell_type": "code",
   "execution_count": 15,
   "metadata": {},
   "outputs": [
    {
     "name": "stdout",
     "output_type": "stream",
     "text": [
      "DECISION TREE SUBMODELS\n",
      "Using 20 classifiers, sample proportion of 4, and random seed 1\n",
      "t\tTrain\t\tTest\n",
      "1\t0.872\t\t0.892\n",
      "2\t0.176\t\t0.118\n",
      "3\t0.874\t\t0.884\n",
      "4\t0.872\t\t0.884\n",
      "5\t0.874\t\t0.886\n",
      "6\t0.923\t\t0.896\n",
      "7\t0.958\t\t0.901\n",
      "8\t0.956\t\t0.910\n",
      "9\t0.962\t\t0.916\n",
      "10\t0.960\t\t0.915\n",
      "11\t0.961\t\t0.916\n",
      "12\t0.964\t\t0.917\n",
      "13\t0.967\t\t0.919\n",
      "14\t0.968\t\t0.919\n",
      "15\t0.973\t\t0.919\n",
      "16\t0.972\t\t0.919\n",
      "17\t0.975\t\t0.920\n",
      "18\t0.976\t\t0.920\n",
      "19\t0.979\t\t0.920\n",
      "20\t0.979\t\t0.921\n",
      "Done!\n"
     ]
    }
   ],
   "source": [
    "tree_lambdaboost(X_train, y_train, X_test, y_test, W);"
   ]
  },
  {
   "cell_type": "code",
   "execution_count": 55,
   "metadata": {},
   "outputs": [
    {
     "name": "stdout",
     "output_type": "stream",
     "text": [
      "KNN:\t\t 0.93\n",
      "Linear SVM:\t 0.91\n",
      "Random Forest:\t 0.90\n",
      "XGBoost:\t 0.94\n"
     ]
    }
   ],
   "source": [
    "baselines(X_train, y_train, X_test, y_test)"
   ]
  }
 ],
 "metadata": {
  "kernelspec": {
   "display_name": "Python 3",
   "language": "python",
   "name": "python3"
  },
  "language_info": {
   "codemirror_mode": {
    "name": "ipython",
    "version": 3
   },
   "file_extension": ".py",
   "mimetype": "text/x-python",
   "name": "python",
   "nbconvert_exporter": "python",
   "pygments_lexer": "ipython3",
   "version": "3.7.4"
  }
 },
 "nbformat": 4,
 "nbformat_minor": 2
}
