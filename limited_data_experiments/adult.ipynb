{
 "cells": [
  {
   "cell_type": "code",
   "execution_count": 1,
   "metadata": {},
   "outputs": [],
   "source": [
    "import numpy as np\n",
    "import pandas as pd\n",
    "from sklearn.datasets import load_svmlight_file\n",
    "from sklearn.model_selection import train_test_split\n",
    "import sys; sys.path.insert(0,'..')\n",
    "from main import *"
   ]
  },
  {
   "cell_type": "code",
   "execution_count": 2,
   "metadata": {},
   "outputs": [],
   "source": [
    "X_train, y_train = load_svmlight_file('../data/adult/a5a.txt', n_features=123)\n",
    "X_train = X_train.toarray()\n",
    "\n",
    "X_test, y_test = load_svmlight_file('../data/adult/a5a.t')\n",
    "X_test = X_test.toarray()\n",
    "\n",
    "# Only use some of training data\n",
    "sample_size = 5000\n",
    "random_samples = np.random.permutation(X_train.shape[0])[:sample_size]\n",
    "X_train = X_train[random_samples]\n",
    "y_train = y_train[random_samples]"
   ]
  },
  {
   "cell_type": "code",
   "execution_count": 3,
   "metadata": {},
   "outputs": [],
   "source": [
    "W = generate_W(y_train)"
   ]
  },
  {
   "cell_type": "code",
   "execution_count": 4,
   "metadata": {},
   "outputs": [
    {
     "name": "stdout",
     "output_type": "stream",
     "text": [
      "LINEAR SVM SUBMODELS\n",
      "Using 20 classifiers, sample proportion of 4, and random seed 1\n",
      "t\tTrain\t\tTest\n",
      "1\t0.808\t\t0.798\n",
      "2\t0.818\t\t0.807\n",
      "3\t0.822\t\t0.811\n",
      "4\t0.823\t\t0.813\n",
      "5\t0.825\t\t0.813\n",
      "6\t0.825\t\t0.815\n",
      "7\t0.826\t\t0.814\n",
      "8\t0.826\t\t0.814\n",
      "9\t0.827\t\t0.815\n",
      "10\t0.827\t\t0.815\n",
      "11\t0.827\t\t0.814\n",
      "12\t0.827\t\t0.815\n",
      "13\t0.827\t\t0.815\n",
      "14\t0.827\t\t0.815\n",
      "15\t0.827\t\t0.815\n",
      "16\t0.827\t\t0.815\n",
      "17\t0.827\t\t0.814\n",
      "18\t0.827\t\t0.815\n",
      "19\t0.827\t\t0.815\n",
      "20\t0.827\t\t0.815\n",
      "Done!\n"
     ]
    }
   ],
   "source": [
    "svm_lambdaboost(X_train, y_train, X_test, y_test, W);"
   ]
  },
  {
   "cell_type": "code",
   "execution_count": 5,
   "metadata": {},
   "outputs": [
    {
     "name": "stdout",
     "output_type": "stream",
     "text": [
      "DECISION TREE SUBMODELS\n",
      "Using 20 classifiers, sample proportion of 4, and random seed 1\n",
      "t\tTrain\t\tTest\n",
      "1\t0.763\t\t0.746\n",
      "2\t0.255\t\t0.266\n",
      "3\t0.764\t\t0.745\n",
      "4\t0.764\t\t0.745\n",
      "5\t0.828\t\t0.803\n",
      "6\t0.828\t\t0.803\n",
      "7\t0.827\t\t0.803\n",
      "8\t0.835\t\t0.814\n",
      "9\t0.835\t\t0.813\n",
      "10\t0.846\t\t0.823\n",
      "11\t0.840\t\t0.816\n",
      "12\t0.841\t\t0.816\n",
      "13\t0.844\t\t0.819\n",
      "14\t0.843\t\t0.816\n",
      "15\t0.852\t\t0.828\n",
      "16\t0.854\t\t0.828\n",
      "17\t0.857\t\t0.830\n",
      "18\t0.858\t\t0.831\n",
      "19\t0.861\t\t0.831\n",
      "20\t0.858\t\t0.830\n",
      "Done!\n"
     ]
    }
   ],
   "source": [
    "f, alpha = tree_lambdaboost(X_train, y_train, X_test, y_test, W);"
   ]
  },
  {
   "cell_type": "code",
   "execution_count": 6,
   "metadata": {},
   "outputs": [
    {
     "name": "stdout",
     "output_type": "stream",
     "text": [
      "BASELINES ACCURACIES\n",
      "Guess Majority:\t 0.760\n",
      "KNN:\t\t 0.818\n",
      "Linear SVM:\t 0.845\n",
      "Random Forest:\t 0.780\n",
      "XGBoost:\t 0.837\n"
     ]
    }
   ],
   "source": [
    "baselines(X_train, y_train, X_test, y_test)"
   ]
  }
 ],
 "metadata": {
  "kernelspec": {
   "display_name": "Python 3",
   "language": "python",
   "name": "python3"
  },
  "language_info": {
   "codemirror_mode": {
    "name": "ipython",
    "version": 3
   },
   "file_extension": ".py",
   "mimetype": "text/x-python",
   "name": "python",
   "nbconvert_exporter": "python",
   "pygments_lexer": "ipython3",
   "version": "3.7.7"
  }
 },
 "nbformat": 4,
 "nbformat_minor": 2
}
