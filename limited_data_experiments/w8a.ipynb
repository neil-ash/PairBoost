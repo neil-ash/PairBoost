{
 "cells": [
  {
   "cell_type": "code",
   "execution_count": 1,
   "metadata": {},
   "outputs": [],
   "source": [
    "import numpy as np\n",
    "import pandas as pd\n",
    "from sklearn.datasets import load_svmlight_file\n",
    "from sklearn.model_selection import train_test_split\n",
    "import sys; sys.path.insert(0,'..')\n",
    "from main import *"
   ]
  },
  {
   "cell_type": "code",
   "execution_count": 5,
   "metadata": {},
   "outputs": [],
   "source": [
    "X_train, y_train = load_svmlight_file('../data/w8a/w8a.txt')\n",
    "X_train = X_train.toarray()\n",
    "\n",
    "X_test, y_test = load_svmlight_file('../data/w8a/w8a.t')\n",
    "X_test = X_test.toarray()\n",
    "\n",
    "# Only use some of training data\n",
    "sample_size = 5000\n",
    "random_samples = np.random.permutation(X_train.shape[0])[:sample_size]\n",
    "X_train = X_train[random_samples]\n",
    "y_train = y_train[random_samples]"
   ]
  },
  {
   "cell_type": "code",
   "execution_count": 6,
   "metadata": {},
   "outputs": [],
   "source": [
    "W = generate_W(y_train)"
   ]
  },
  {
   "cell_type": "code",
   "execution_count": 7,
   "metadata": {},
   "outputs": [
    {
     "name": "stdout",
     "output_type": "stream",
     "text": [
      "LINEAR SVM SUBMODELS\n",
      "Using 20 classifiers, sample proportion of 4, and random seed 1\n",
      "t\tTrain\t\tTest\n",
      "1\t0.976\t\t0.959\n",
      "2\t0.985\t\t0.970\n",
      "3\t0.986\t\t0.975\n",
      "4\t0.987\t\t0.978\n",
      "5\t0.987\t\t0.981\n",
      "6\t0.986\t\t0.981\n",
      "7\t0.986\t\t0.982\n",
      "8\t0.987\t\t0.982\n",
      "9\t0.987\t\t0.983\n",
      "10\t0.987\t\t0.983\n",
      "11\t0.988\t\t0.983\n",
      "12\t0.987\t\t0.983\n",
      "13\t0.987\t\t0.983\n",
      "14\t0.987\t\t0.983\n",
      "15\t0.987\t\t0.983\n",
      "16\t0.987\t\t0.983\n",
      "17\t0.986\t\t0.982\n",
      "18\t0.986\t\t0.983\n",
      "19\t0.985\t\t0.983\n",
      "20\t0.985\t\t0.983\n",
      "Done!\n"
     ]
    }
   ],
   "source": [
    "svm_lambdaboost(X_train, y_train, X_test, y_test, W);"
   ]
  },
  {
   "cell_type": "code",
   "execution_count": 8,
   "metadata": {},
   "outputs": [
    {
     "name": "stdout",
     "output_type": "stream",
     "text": [
      "DECISION TREE SUBMODELS\n",
      "Using 20 classifiers, sample proportion of 4, and random seed 1\n",
      "t\tTrain\t\tTest\n",
      "1\t0.939\t\t0.938\n",
      "2\t0.097\t\t0.089\n",
      "3\t0.931\t\t0.928\n",
      "4\t0.927\t\t0.926\n",
      "5\t0.927\t\t0.926\n",
      "6\t0.966\t\t0.956\n",
      "7\t0.966\t\t0.956\n",
      "8\t0.972\t\t0.965\n",
      "9\t0.973\t\t0.966\n",
      "10\t0.973\t\t0.966\n",
      "11\t0.973\t\t0.966\n",
      "12\t0.983\t\t0.979\n",
      "13\t0.982\t\t0.978\n",
      "14\t0.982\t\t0.978\n",
      "15\t0.982\t\t0.978\n",
      "16\t0.982\t\t0.978\n",
      "17\t0.982\t\t0.978\n",
      "18\t0.982\t\t0.978\n",
      "19\t0.982\t\t0.978\n",
      "20\t0.982\t\t0.978\n",
      "Done!\n"
     ]
    }
   ],
   "source": [
    "tree_lambdaboost(X_train, y_train, X_test, y_test, W);"
   ]
  },
  {
   "cell_type": "code",
   "execution_count": 9,
   "metadata": {},
   "outputs": [
    {
     "name": "stdout",
     "output_type": "stream",
     "text": [
      "KNN:\t\t 0.98\n",
      "Linear SVM:\t 0.98\n",
      "Random Forest:\t 0.97\n",
      "XGBoost:\t 0.97\n"
     ]
    }
   ],
   "source": [
    "baselines(X_train, y_train, X_test, y_test)"
   ]
  }
 ],
 "metadata": {
  "kernelspec": {
   "display_name": "Python 3",
   "language": "python",
   "name": "python3"
  },
  "language_info": {
   "codemirror_mode": {
    "name": "ipython",
    "version": 3
   },
   "file_extension": ".py",
   "mimetype": "text/x-python",
   "name": "python",
   "nbconvert_exporter": "python",
   "pygments_lexer": "ipython3",
   "version": "3.7.4"
  }
 },
 "nbformat": 4,
 "nbformat_minor": 2
}
