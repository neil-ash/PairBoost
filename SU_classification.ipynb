{
 "cells": [
  {
   "cell_type": "code",
   "execution_count": 1,
   "metadata": {},
   "outputs": [],
   "source": [
    "import argparse\n",
    "import numpy as np\n",
    "\n",
    "from sklearn.base import BaseEstimator, ClassifierMixin\n",
    "from sklearn.metrics import accuracy_score\n",
    "from sklearn.model_selection import cross_val_score\n",
    "from sklearn.utils.validation import check_is_fitted, check_X_y, check_array\n",
    "from sklearn.utils.multiclass import check_classification_targets\n",
    "from sklearn.utils import shuffle\n",
    "from sklearn.datasets import load_svmlight_file\n",
    "\n",
    "# from SU_Classification.misc import load_dataset, convert_su_data_sklearn_compatible\n",
    "# from SU_Classification.su_learning import SU_Base, SU_SL, SU_DH\n",
    "\n",
    "import main\n",
    "# import load_dataset as ld\n",
    "\n",
    "import matplotlib.pyplot as plt\n",
    "import seaborn as sns\n",
    "import os\n",
    "import itertools\n",
    "\n",
    "\n",
    "from sklearn.svm import SVC\n",
    "from sklearn.preprocessing import StandardScaler, minmax_scale\n",
    "from tqdm import tqdm"
   ]
  },
  {
   "cell_type": "markdown",
   "metadata": {},
   "source": [
    "# Initalization"
   ]
  },
  {
   "cell_type": "code",
   "execution_count": 2,
   "metadata": {},
   "outputs": [],
   "source": [
    "# PairBoost\n",
    "# Initialization\n",
    "sample_size=1000\n",
    "num_rank_model=1\n",
    "sigma_k = [5]#,3,4,3,6,5,4,3,3.5,5]\n",
    "assert len(sigma_k)==num_rank_model, 'Number of rank models and sigma_k should be equal.'\n",
    "T=10\n",
    "\n",
    "#SU_classification\n",
    "n_s=200\n",
    "n_u=sample_size - 2* n_s\n",
    "# SU = SU_DH\n",
    "# x_s, x_u , x_test, y_test = load_dataset(n_s, n_u, n_test, prior)\n",
    "# x_train, y_train = convert_su_data_sklearn_compatible(x_s, x_u)"
   ]
  },
  {
   "cell_type": "markdown",
   "metadata": {},
   "source": [
    "# Load Adult dataset"
   ]
  },
  {
   "cell_type": "code",
   "execution_count": 3,
   "metadata": {},
   "outputs": [],
   "source": [
    "# d = ld.AdultDataset(data_dir='./data/adult')\n",
    "# x,label_train = d.load_data()\n",
    "x, label_train = load_svmlight_file('data/adult/a5a.txt', n_features=123)\n",
    "x = x.toarray()\n",
    "random_samples = np.random.permutation(x.shape[0])[:sample_size]\n",
    "x = x[random_samples,:]\n",
    "label_train = (label_train - 0.5) * 2\n",
    "label_train = label_train[random_samples]\n",
    "data_dim = x.shape[1]\n",
    "\n",
    "scaler = StandardScaler()\n",
    "x = scaler.fit_transform(x)\n",
    "\n",
    "# d = ld.AdultDataset(data_dir='./data/adult', subset='test')\n",
    "# x_test,label_test = d.load_data()\n",
    "x_test, label_test = load_svmlight_file('data/adult/a5a.t', n_features=123)\n",
    "x_test = x_test.toarray()\n",
    "x_test = scaler.transform(x_test)\n",
    "label_test = (label_test - 0.5) * 2"
   ]
  },
  {
   "cell_type": "markdown",
   "metadata": {},
   "source": [
    "# Load syntetic dataset"
   ]
  },
  {
   "cell_type": "code",
   "execution_count": 26,
   "metadata": {},
   "outputs": [],
   "source": [
    "def gen(n, dim, mean=2, var=1):\n",
    "    return np.random.normal(mean, var, size=(n, dim))\n",
    "\n",
    "def synth_dataset(ns, nu, prior, nt, dim=2, mp=2):\n",
    "    nsp = np.random.binomial(ns, prior**2 / (prior**2 + (1-prior)**2))\n",
    "    nsn = ns - nsp\n",
    "    xsp = np.hstack((gen(nsp, dim,mean=mp), gen(nsp, dim,mean=mp)))\n",
    "    xsn = np.hstack((gen(nsn, dim, mean=-mp), gen(nsn, dim, mean=-mp)))\n",
    "    xs = np.concatenate((xsp,xsn))\n",
    "    xsr = np.concatenate((xsp.reshape(-1, dim),xsn.reshape(-1, dim)))\n",
    "    yr = np.concatenate((np.ones(2*nsp),-np.ones(2*nsn)))\n",
    "    \n",
    "\n",
    "    nup = np.random.binomial(nu, prior)\n",
    "    nun = nu - nup\n",
    "    xu = np.concatenate((gen(nup, dim,mean=mp), gen(nun, dim,mean=-mp)))\n",
    "    yu = np.concatenate((np.ones(nup), -np.ones(nun)))\n",
    "    \n",
    "    x_train = np.concatenate((xsr,xu))\n",
    "    y_train = np.concatenate((yr,yu))\n",
    "    x_train,y_train = shuffle(x_train,y_train)\n",
    "    \n",
    "    \n",
    "    ntp = np.random.binomial(nt, prior)\n",
    "    ntn = nt - ntp\n",
    "    x_test = np.concatenate((gen(ntp, dim,mean=mp), gen(ntn, dim,mean=-mp)))\n",
    "    y_test = np.concatenate((np.ones(ntp), -np.ones(ntn)))\n",
    "\n",
    "    return xs, xu, x_train, y_train, x_test, y_test\n",
    "\n",
    "x_s, x_u, x_train, y_train, x_test, y_test = synth_dataset(ns=n_s, nu=n_u, prior=0.6, nt=100, mp=1.0)"
   ]
  },
  {
   "cell_type": "markdown",
   "metadata": {},
   "source": [
    "## Get data for SU_classification"
   ]
  },
  {
   "cell_type": "code",
   "execution_count": null,
   "metadata": {},
   "outputs": [],
   "source": [
    "# est_prior = np.sum(label_train == 1) / (np.sum(label_train == 1) + np.sum(label_train == -1))\n",
    "# x_pos = x[label_train==1,:]\n",
    "# x_neg = x[label_train==-1,:]\n",
    "# random_samples_pos = np.random.permutation(x_pos.shape[0])\n",
    "# random_samples_neg = np.random.permutation(x_neg.shape[0])\n",
    "\n",
    "# x_s = np.concatenate((x_pos[random_samples_pos[:n_s]],x_neg[random_samples_neg[:n_s]]))\n",
    "# x_u = np.concatenate((x_pos[random_samples_pos[n_s:]],x_neg[random_samples_neg[n_s:]]))\n",
    "# x_train = np.concatenate((x_s,x_u))\n",
    "# y_train = np.concatenate((np.ones(x_s.shape[0]), np.zeros(x_u.shape[0])))\n",
    "# x_train,y_train = shuffle(x_train,y_train)"
   ]
  },
  {
   "cell_type": "markdown",
   "metadata": {},
   "source": [
    "# SU_Classification training"
   ]
  },
  {
   "cell_type": "code",
   "execution_count": null,
   "metadata": {},
   "outputs": [],
   "source": [
    "lam_list = [1e-01, 1e-04, 1e-07]\n",
    "score_cv_list = []\n",
    "x_train_su, y_train_su = convert_su_data_sklearn_compatible(x_s, x_u)\n",
    "for lam in lam_list:\n",
    "    clf = SU(prior=0.6, lam=lam)\n",
    "    score_cv = cross_val_score(clf, x_train_su, y_train_su, cv=5).mean()\n",
    "    score_cv_list.append(score_cv)"
   ]
  },
  {
   "cell_type": "code",
   "execution_count": null,
   "metadata": {},
   "outputs": [],
   "source": [
    "lam_best = lam_list[np.argmax(score_cv_list)]\n",
    "clf = SU(prior=0.7, lam=lam_best)\n",
    "clf.fit(x_train_su, y_train_su)"
   ]
  },
  {
   "cell_type": "code",
   "execution_count": null,
   "metadata": {},
   "outputs": [],
   "source": [
    "y_pred = clf.predict(x_test)\n",
    "accuracy = accuracy_score(y_test, y_pred)\n",
    "accuracy"
   ]
  },
  {
   "cell_type": "markdown",
   "metadata": {},
   "source": [
    "# PairBoost"
   ]
  },
  {
   "cell_type": "markdown",
   "metadata": {},
   "source": [
    "## Learn the ranker"
   ]
  },
  {
   "cell_type": "code",
   "execution_count": 27,
   "metadata": {},
   "outputs": [
    {
     "name": "stdout",
     "output_type": "stream",
     "text": [
      "Accuracy of the trained SVM with C = 1.4 is: 0.96\n"
     ]
    }
   ],
   "source": [
    "ranks = []\n",
    "# n_samples = int(np.sqrt(2*n_s))+1\n",
    "n_samples = 2 * n_s + n_u\n",
    "x = x_train[:n_samples]\n",
    "label_train = y_train[:n_samples]\n",
    "# for i in range(num_rank_model):\n",
    "#     c=round(np.random.uniform(low=1.0, high=1.5), 1)\n",
    "#     clf = SVC(kernel='linear',max_iter=2000,C=c)\n",
    "#     clf.fit(x, label_train)\n",
    "#     ranks.append(clf.decision_function(x))\n",
    "#     ranks_test.append(clf.decision_function(x_test))\n",
    "#     print('Accuracy of the trained SVM with C = {} is: {}'.format(c,clf.score(x,label_train)))\n",
    "\n",
    "pos_ind = np.squeeze(np.argwhere(y_train == 1))\n",
    "neg_ind = np.squeeze(np.argwhere(y_train == -1))\n",
    "pos_ind = pos_ind[np.random.permutation(pos_ind.shape[0])[:n_s]]\n",
    "neg_ind = neg_ind[np.random.permutation(neg_ind.shape[0])[:n_s]]\n",
    "rnd_c = np.random.choice([1,-1],[pos_ind.shape[0],1])\n",
    "x_pair = (x_train[pos_ind,:] - x_train[neg_ind,:]) * rnd_c\n",
    "y_pair = (y_train[pos_ind] - y_train[neg_ind]) * np.squeeze(rnd_c)\n",
    "for i in range(num_rank_model):\n",
    "    c=round(np.random.uniform(low=1.0, high=1.5), 1)\n",
    "    clf = SVC(kernel='linear',max_iter=2000,C=c)\n",
    "    clf.fit(x_pair, y_pair)\n",
    "    ranks.append(clf.decision_function(x))\n",
    "#     ranks_test.append(clf.decision_function(x_test))\n",
    "    print('Accuracy of the trained SVM with C = {} is: {}'.format(c,clf.score(x_pair,y_pair)))\n",
    "\n"
   ]
  },
  {
   "cell_type": "markdown",
   "metadata": {},
   "source": [
    "## Learn probabilities"
   ]
  },
  {
   "cell_type": "code",
   "execution_count": 28,
   "metadata": {},
   "outputs": [],
   "source": [
    "W = [main.gen_conf_matrix(rank, sigma) for rank,sigma in zip(ranks,sigma_k)]\n",
    "# Approximate, faster version\n",
    "# W = [main.gen_conf_matrix1(rank, sigma) for rank,sigma in zip(ranks,sigma_k)]\n",
    "\n",
    "\n",
    "# Select random pairs\n",
    "# m = int(np.sqrt(2*n_s))+1\n",
    "# pos_ind = np.squeeze(np.argwhere(label_train == 1))\n",
    "# neg_ind = np.squeeze(np.argwhere(label_train == -1))\n",
    "# pos_ind = pos_ind[np.random.permutation(pos_ind.shape[0])[:m]]\n",
    "# neg_ind = neg_ind[np.random.permutation(neg_ind.shape[0])[:m]]\n",
    "# W = [w[pos_ind,:][:,neg_ind] for w in W]\n"
   ]
  },
  {
   "cell_type": "code",
   "execution_count": 29,
   "metadata": {},
   "outputs": [],
   "source": [
    "\"\"\" NEIL'S CELL \"\"\"\n",
    "from main import *\n",
    "W = generate_rank_W(x_train, y_train, 200)\n",
    "W = [W]"
   ]
  },
  {
   "cell_type": "markdown",
   "metadata": {},
   "source": [
    "## Train the model"
   ]
  },
  {
   "cell_type": "code",
   "execution_count": 30,
   "metadata": {},
   "outputs": [
    {
     "name": "stderr",
     "output_type": "stream",
     "text": [
      "\r",
      "  0%|          | 0/10 [00:00<?, ?it/s]"
     ]
    },
    {
     "name": "stdout",
     "output_type": "stream",
     "text": [
      "Accuracies for training and test:\n",
      "0.913\n",
      "0.96\n",
      "Overall Test Accuracy: 0.0 \n",
      "\n",
      "Accuracies for training and test:\n",
      "0.907\n",
      "0.96\n",
      "Overall Test Accuracy: 0.96 \n",
      "\n"
     ]
    },
    {
     "name": "stderr",
     "output_type": "stream",
     "text": [
      "/Users/Ashtekar15/Desktop/Thesis/PairBoost/main.py:98: RuntimeWarning: invalid value encountered in double_scalars\n",
      "  return 0.5 * np.log(np.sum(I_1) / np.sum(I_2))\n",
      "\r",
      "  0%|          | 0/10 [00:00<?, ?it/s]"
     ]
    },
    {
     "name": "stdout",
     "output_type": "stream",
     "text": [
      "Accuracies for training and test:\n",
      "0.626\n",
      "0.61\n",
      "Overall Test Accuracy: 0.94 \n",
      "\n"
     ]
    },
    {
     "name": "stderr",
     "output_type": "stream",
     "text": [
      "\n"
     ]
    }
   ],
   "source": [
    "t=0\n",
    "data_dim=2\n",
    "alpha=[0.0]\n",
    "f = [np.zeros((1,data_dim)),0.0]\n",
    "n = x.shape[0]\n",
    "\n",
    "with tqdm(total=T) as it:\n",
    "    while (t <= T) and (alpha[-1] >= 0):\n",
    "        scores = f[0].dot(x.T) + f[1]\n",
    "        scores = minmax_scale(scores,feature_range=(-1,1),axis=1)\n",
    "        xi = main.cal_uncertainty(scores,W)\n",
    "        weights = main.cal_weights(xi)\n",
    "        labels = np.sign(weights)\n",
    "        minmax_scale(scores,feature_range=(-1,1),axis=1)\n",
    "        \n",
    "        # Bootstraping data\n",
    "        p_weights = weights - np.min(weights)\n",
    "        p_weights /= np.sum(p_weights)\n",
    "        new_samples = np.random.choice(n,4*n,p=p_weights)\n",
    "        new_x = x[new_samples,:]\n",
    "        new_label_train = labels[new_samples]\n",
    "        \n",
    "        # Learning a linear SVM for the binary classifcation\n",
    "        clf = SVC(kernel='linear')\n",
    "        new_x, new_label_train = shuffle(new_x,new_label_train)\n",
    "        clf.fit(new_x, new_label_train)\n",
    "        y = clf.predict(x)\n",
    "        print('Accuracies for training and test:')\n",
    "        predicted_score = clf.score(x,label_train)\n",
    "        print(max(predicted_score,1-predicted_score))\n",
    "        print(max(clf.score(x_test,y_test),clf.score(x_test,-y_test)))\n",
    "        # Calculate alpha\n",
    "        alpha_t = main.cal_alpha(y, xi)\n",
    "        alpha.append(alpha_t)\n",
    "                \n",
    "        # Update classifier\n",
    "        f[0] += alpha[t] * clf.coef_\n",
    "        f[1] += alpha[t] * clf.intercept_\n",
    "\n",
    "        y_pred = np.sign(f[1] + np.squeeze(np.matmul(x_test, f[0].T)))\n",
    "        print('Overall Test Accuracy:', accuracy_score(y_test, y_pred), '\\n')\n",
    "\n",
    "        t += 1\n",
    "        #it.update()\n",
    "    \n"
   ]
  },
  {
   "cell_type": "code",
   "execution_count": 36,
   "metadata": {},
   "outputs": [
    {
     "name": "stdout",
     "output_type": "stream",
     "text": [
      "LINEAR SVM SUBMODELS\n",
      "Using 10 classifiers and sample proportion of 4\n",
      "t\tTrain\t\tTest\n",
      "1\t0.915\t\t0.960\n",
      "2\t0.914\t\t0.960\n",
      "3\t0.915\t\t0.960\n",
      "4\t0.915\t\t0.960\n",
      "5\t0.915\t\t0.960\n",
      "6\t0.915\t\t0.960\n",
      "7\t0.915\t\t0.960\n",
      "8\t0.915\t\t0.960\n",
      "9\t0.915\t\t0.960\n",
      "10\t0.913\t\t0.960\n",
      "Done!\n"
     ]
    },
    {
     "data": {
      "text/plain": [
       "(0.08699999999999997, 0.040000000000000036)"
      ]
     },
     "execution_count": 36,
     "metadata": {},
     "output_type": "execute_result"
    }
   ],
   "source": [
    "svm_lambdaboost(x_train, label_train, x_test, y_test, W[0], T=10, sample_prop=4)"
   ]
  },
  {
   "cell_type": "code",
   "execution_count": 23,
   "metadata": {},
   "outputs": [
    {
     "data": {
      "text/plain": [
       "[array([[1.99121678, 1.02402192]]), array([0.94505876])]"
      ]
     },
     "execution_count": 23,
     "metadata": {},
     "output_type": "execute_result"
    }
   ],
   "source": [
    "f"
   ]
  },
  {
   "cell_type": "code",
   "execution_count": 24,
   "metadata": {},
   "outputs": [],
   "source": [
    "xq = np.array([-4, 4])\n",
    "# yq = (152.20063179 - (137.11042097 * xq)) / 163.13538911\n",
    "yq = (-f[1][0] - (f[0][0, 0] * xq)) / f[0][0, 1]"
   ]
  },
  {
   "cell_type": "code",
   "execution_count": 25,
   "metadata": {},
   "outputs": [
    {
     "data": {
      "text/plain": [
       "[<matplotlib.lines.Line2D at 0x1a225f7cd0>]"
      ]
     },
     "execution_count": 25,
     "metadata": {},
     "output_type": "execute_result"
    },
    {
     "data": {
      "image/png": "[encoded data removed]",
      "text/plain": [
       "<Figure size 432x288 with 1 Axes>"
      ]
     },
     "metadata": {},
     "output_type": "display_data"
    }
   ],
   "source": [
    "import matplotlib.pyplot as plt\n",
    "\n",
    "plt.scatter(x_train[:, 0], x_train[:, 1], c=label_train, alpha=0.5, cmap='RdYlGn')\n",
    "plt.plot(xq, yq, color='black')"
   ]
  }
 ],
 "metadata": {
  "kernelspec": {
   "display_name": "Python 3",
   "language": "python",
   "name": "python3"
  },
  "language_info": {
   "codemirror_mode": {
    "name": "ipython",
    "version": 3
   },
   "file_extension": ".py",
   "mimetype": "text/x-python",
   "name": "python",
   "nbconvert_exporter": "python",
   "pygments_lexer": "ipython3",
   "version": "3.7.7"
  }
 },
 "nbformat": 4,
 "nbformat_minor": 2
}
