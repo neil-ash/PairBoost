{
 "cells": [
  {
   "cell_type": "code",
   "execution_count": 13,
   "metadata": {},
   "outputs": [],
   "source": [
    "import numpy as np\n",
    "import pandas as pd\n",
    "from sklearn.datasets import load_svmlight_file\n",
    "from sklearn.model_selection import train_test_split\n",
    "import sys; sys.path.insert(0,'..')\n",
    "from main import *\n",
    "\n",
    "from SU_Classification.su_learning import *\n",
    "from SU_Classification import misc"
   ]
  },
  {
   "cell_type": "code",
   "execution_count": 17,
   "metadata": {},
   "outputs": [],
   "source": [
    "X_train, y_train = load_svmlight_file('../data/w8a/w8a.txt')\n",
    "X_train = X_train.toarray()\n",
    "\n",
    "X_test, y_test = load_svmlight_file('../data/w8a/w8a.t')\n",
    "X_test = X_test.toarray()"
   ]
  },
  {
   "cell_type": "code",
   "execution_count": 18,
   "metadata": {},
   "outputs": [],
   "source": [
    "def get_similar_unlabeled(X_train, y_train, ns, nu, train_size=5000, su_cutoff=2500):\n",
    "\n",
    "    # Use prior from dataset\n",
    "    prior = np.sum(y_train == 1) / y_train.shape[0]\n",
    "    \n",
    "    # Sizes of sets to sample similar, unlabeled points\n",
    "    train_size = 5000\n",
    "    su_cutoff  = 2500\n",
    "\n",
    "    # Only use some of training data\n",
    "    train_samples = np.random.permutation(X_train.shape[0])[:train_size]\n",
    "    X_train = X_train[train_samples]\n",
    "    y_train = y_train[train_samples]\n",
    "\n",
    "    # Sample similar and unlabeled points from disjoint sets\n",
    "    X_s_set = X_train[:su_cutoff]\n",
    "    y_s_set = y_train[:su_cutoff]\n",
    "    X_u_set = X_train[su_cutoff:]\n",
    "    y_u_set = y_train[su_cutoff:]\n",
    "\n",
    "    # Calculate number of positive/negative similar pairs using prior\n",
    "    nsp = np.random.binomial(ns, prior**2 / (prior**2 + (1-prior)**2))\n",
    "    nsn = ns - nsp\n",
    "    \n",
    "    # Similar: get positive pairs and negative pairs\n",
    "    X_s_pos = X_s_set[np.where(y_s_set ==  1)]\n",
    "    X_s_neg = X_s_set[np.where(y_s_set == -1)]\n",
    "\n",
    "    # Get similar pairs\n",
    "    xs = np.concatenate((np.hstack((X_s_pos[np.random.choice(X_s_pos.shape[0], nsp)], \n",
    "                                    X_s_pos[np.random.choice(X_s_pos.shape[0], nsp)])),\n",
    "                         np.hstack((X_s_neg[np.random.choice(X_s_neg.shape[0], nsn)], \n",
    "                                    X_s_neg[np.random.choice(X_s_neg.shape[0], nsn)]))))\n",
    "\n",
    "    # Calculate number of positve/negative unlabeled points using prior\n",
    "    nup = np.random.binomial(nu, prior)\n",
    "    nun = nu - nup\n",
    "\n",
    "    # Unlabeled: get positive pairs and negative pairs\n",
    "    X_u_pos = X_u_set[np.where(y_u_set ==  1)]\n",
    "    X_u_neg = X_u_set[np.where(y_u_set == -1)]\n",
    "\n",
    "    # Get unlabeled points\n",
    "    xu = np.concatenate((X_u_pos[np.random.choice(X_u_pos.shape[0], nup)], \n",
    "                         X_u_neg[np.random.choice(X_u_neg.shape[0], nun)]))\n",
    "    \n",
    "    return xs, xu"
   ]
  },
  {
   "cell_type": "code",
   "execution_count": 19,
   "metadata": {},
   "outputs": [],
   "source": [
    "xs, xu = get_similar_unlabeled(X_train, y_train, 500, 500)"
   ]
  },
  {
   "cell_type": "code",
   "execution_count": 21,
   "metadata": {},
   "outputs": [
    {
     "name": "stdout",
     "output_type": "stream",
     "text": [
      "Prior estimate: 0.7\n"
     ]
    },
    {
     "ename": "ZeroDivisionError",
     "evalue": "float division by zero",
     "output_type": "error",
     "traceback": [
      "\u001b[0;31m---------------------------------------------------------------------------\u001b[0m",
      "\u001b[0;31mZeroDivisionError\u001b[0m                         Traceback (most recent call last)",
      "\u001b[0;32m<timed exec>\u001b[0m in \u001b[0;36m<module>\u001b[0;34m\u001b[0m\n",
      "\u001b[0;32m~/Desktop/Thesis/PairBoost/SU_Classification/su_learning.py\u001b[0m in \u001b[0;36mfit\u001b[0;34m(self, x, y)\u001b[0m\n\u001b[1;32m     67\u001b[0m         \u001b[0;32mwhile\u001b[0m \u001b[0mthe\u001b[0m \u001b[0mdivision\u001b[0m \u001b[0;32mis\u001b[0m \u001b[0mtaken\u001b[0m \u001b[0;32mwith\u001b[0m\u001b[0;31m \u001b[0m\u001b[0;31m`\u001b[0m\u001b[0mn_s\u001b[0m\u001b[0;31m`\u001b[0m \u001b[0;32min\u001b[0m \u001b[0mthe\u001b[0m \u001b[0moriginal\u001b[0m \u001b[0mpaper\u001b[0m\u001b[0;34m.\u001b[0m\u001b[0;34m\u001b[0m\u001b[0;34m\u001b[0m\u001b[0m\n\u001b[1;32m     68\u001b[0m         \"\"\"\n\u001b[0;32m---> 69\u001b[0;31m         \u001b[0mA\u001b[0m \u001b[0;34m=\u001b[0m \u001b[0;34m(\u001b[0m\u001b[0mp_p\u001b[0m \u001b[0;34m-\u001b[0m \u001b[0mp_n\u001b[0m\u001b[0;34m)\u001b[0m \u001b[0;34m/\u001b[0m \u001b[0mn_u\u001b[0m \u001b[0;34m*\u001b[0m \u001b[0;34m(\u001b[0m\u001b[0mk_u\u001b[0m\u001b[0;34m.\u001b[0m\u001b[0mT\u001b[0m\u001b[0;34m.\u001b[0m\u001b[0mdot\u001b[0m\u001b[0;34m(\u001b[0m\u001b[0mk_u\u001b[0m\u001b[0;34m)\u001b[0m \u001b[0;34m+\u001b[0m \u001b[0;36m2\u001b[0m \u001b[0;34m*\u001b[0m \u001b[0mself\u001b[0m\u001b[0;34m.\u001b[0m\u001b[0mlam\u001b[0m \u001b[0;34m*\u001b[0m \u001b[0mn_u\u001b[0m \u001b[0;34m*\u001b[0m \u001b[0mnp\u001b[0m\u001b[0;34m.\u001b[0m\u001b[0meye\u001b[0m\u001b[0;34m(\u001b[0m\u001b[0md\u001b[0m\u001b[0;34m)\u001b[0m\u001b[0;34m)\u001b[0m\u001b[0;34m\u001b[0m\u001b[0;34m\u001b[0m\u001b[0m\n\u001b[0m\u001b[1;32m     70\u001b[0m         \u001b[0mb\u001b[0m \u001b[0;34m=\u001b[0m \u001b[0;36m2\u001b[0m \u001b[0;34m*\u001b[0m \u001b[0mp_s\u001b[0m \u001b[0;34m*\u001b[0m \u001b[0mk_s\u001b[0m\u001b[0;34m.\u001b[0m\u001b[0mT\u001b[0m\u001b[0;34m.\u001b[0m\u001b[0mmean\u001b[0m\u001b[0;34m(\u001b[0m\u001b[0maxis\u001b[0m\u001b[0;34m=\u001b[0m\u001b[0;36m1\u001b[0m\u001b[0;34m)\u001b[0m \u001b[0;34m-\u001b[0m \u001b[0mk_u\u001b[0m\u001b[0;34m.\u001b[0m\u001b[0mT\u001b[0m\u001b[0;34m.\u001b[0m\u001b[0mmean\u001b[0m\u001b[0;34m(\u001b[0m\u001b[0maxis\u001b[0m\u001b[0;34m=\u001b[0m\u001b[0;36m1\u001b[0m\u001b[0;34m)\u001b[0m\u001b[0;34m\u001b[0m\u001b[0;34m\u001b[0m\u001b[0m\n\u001b[1;32m     71\u001b[0m         \u001b[0mself\u001b[0m\u001b[0;34m.\u001b[0m\u001b[0mcoef_\u001b[0m \u001b[0;34m=\u001b[0m \u001b[0mnp\u001b[0m\u001b[0;34m.\u001b[0m\u001b[0mlinalg\u001b[0m\u001b[0;34m.\u001b[0m\u001b[0msolve\u001b[0m\u001b[0;34m(\u001b[0m\u001b[0mA\u001b[0m\u001b[0;34m,\u001b[0m \u001b[0mb\u001b[0m\u001b[0;34m)\u001b[0m\u001b[0;34m\u001b[0m\u001b[0;34m\u001b[0m\u001b[0m\n",
      "\u001b[0;31mZeroDivisionError\u001b[0m: float division by zero"
     ]
    }
   ],
   "source": [
    "%%time\n",
    "\n",
    "# prior_estimate = class_prior_estimation(xs, xu)\n",
    "prior_estimate = 0.7\n",
    "print('Prior estimate:', prior_estimate)\n",
    "\n",
    "clf = SU_SL(prior=prior_estimate, lam=1e-04)\n",
    "clf.fit(X_train, y_train)\n",
    "\n",
    "y_pred = clf.predict(X_test)\n",
    "acc = accuracy_score(y_test, y_pred)\n",
    "\n",
    "print(max(acc, 1 - acc), \n",
    "      np.unique(y_pred, return_counts=True), \n",
    "      np.unique(y_test, return_counts=True),\n",
    "      sep='\\n')"
   ]
  }
 ],
 "metadata": {
  "kernelspec": {
   "display_name": "Python 3",
   "language": "python",
   "name": "python3"
  },
  "language_info": {
   "codemirror_mode": {
    "name": "ipython",
    "version": 3
   },
   "file_extension": ".py",
   "mimetype": "text/x-python",
   "name": "python",
   "nbconvert_exporter": "python",
   "pygments_lexer": "ipython3",
   "version": "3.7.7"
  }
 },
 "nbformat": 4,
 "nbformat_minor": 2
}
