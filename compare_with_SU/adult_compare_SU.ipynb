{
 "cells": [
  {
   "cell_type": "code",
   "execution_count": 1,
   "metadata": {
    "scrolled": true
   },
   "outputs": [],
   "source": [
    "# %load_ext autoreload\n",
    "# %autoreload 2"
   ]
  },
  {
   "cell_type": "code",
   "execution_count": 2,
   "metadata": {},
   "outputs": [],
   "source": [
    "import numpy as np\n",
    "import pandas as pd\n",
    "from sklearn.datasets import load_svmlight_file\n",
    "from sklearn.model_selection import train_test_split\n",
    "import sys; sys.path.insert(0,'..')\n",
    "from main import *\n",
    "\n",
    "from SU_Classification.su_learning import *\n",
    "from SU_Classification import misc"
   ]
  },
  {
   "cell_type": "code",
   "execution_count": 3,
   "metadata": {},
   "outputs": [],
   "source": [
    "X_train_orig, y_train_orig = load_svmlight_file('../data/adult/a5a.txt', n_features=123)\n",
    "X_train_orig = X_train_orig.toarray()\n",
    "\n",
    "X_test_orig, y_test_orig = load_svmlight_file('../data/adult/a5a.t')\n",
    "X_test_orig = X_test_orig.toarray()"
   ]
  },
  {
   "cell_type": "code",
   "execution_count": 4,
   "metadata": {},
   "outputs": [],
   "source": [
    "def get_similar_unlabeled(X_train, y_train, ns, nu, prior=0.7, train_size=5000, su_cutoff=2500):\n",
    "    \"\"\" \n",
    "    Returns similar and unlabeled pairs: xs, xu\n",
    "    \n",
    "    Note) true prior is set as 0.7 to be consistent with results in Table 4 of the Tokyo SU\n",
    "          paper, train_size and su_cutoff are used to ensure that similar and unlabeled points\n",
    "          are from disjoint sets\n",
    "    \"\"\"\n",
    "\n",
    "    # Only use some of training data\n",
    "    train_samples = np.random.permutation(X_train.shape[0])[:train_size]\n",
    "    X_train = X_train[train_samples]\n",
    "    y_train = y_train[train_samples]\n",
    "\n",
    "    # Sample similar and unlabeled points from disjoint sets\n",
    "    X_s_set = X_train[:su_cutoff]\n",
    "    y_s_set = y_train[:su_cutoff]\n",
    "    X_u_set = X_train[su_cutoff:]\n",
    "    y_u_set = y_train[su_cutoff:]\n",
    "\n",
    "    # Calculate number of positive/negative similar pairs using prior\n",
    "    nsp = np.random.binomial(ns, prior**2 / (prior**2 + (1-prior)**2))\n",
    "    nsn = ns - nsp\n",
    "    \n",
    "    # Similar: get positive pairs and negative pairs\n",
    "    X_s_pos = X_s_set[np.where(y_s_set ==  1)]\n",
    "    X_s_neg = X_s_set[np.where(y_s_set == -1)]\n",
    "\n",
    "    # Get similar pairs\n",
    "    xs = np.concatenate((np.hstack((X_s_pos[np.random.choice(X_s_pos.shape[0], nsp)], \n",
    "                                    X_s_pos[np.random.choice(X_s_pos.shape[0], nsp)])),\n",
    "                         np.hstack((X_s_neg[np.random.choice(X_s_neg.shape[0], nsn)], \n",
    "                                    X_s_neg[np.random.choice(X_s_neg.shape[0], nsn)]))))\n",
    "\n",
    "    # Calculate number of positve/negative unlabeled points using prior\n",
    "    nup = np.random.binomial(nu, prior)\n",
    "    nun = nu - nup\n",
    "\n",
    "    # Unlabeled: get positive pairs and negative pairs\n",
    "    X_u_pos = X_u_set[np.where(y_u_set ==  1)]\n",
    "    X_u_neg = X_u_set[np.where(y_u_set == -1)]\n",
    "\n",
    "    # Get unlabeled points\n",
    "    xu = np.concatenate((X_u_pos[np.random.choice(X_u_pos.shape[0], nup)], \n",
    "                         X_u_neg[np.random.choice(X_u_neg.shape[0], nun)]))\n",
    "    \n",
    "    return xs, xu"
   ]
  },
  {
   "cell_type": "code",
   "execution_count": 5,
   "metadata": {},
   "outputs": [
    {
     "data": {
      "text/plain": [
       "0.6202971660228707"
      ]
     },
     "execution_count": 5,
     "metadata": {},
     "output_type": "execute_result"
    }
   ],
   "source": [
    "acc_ls = []\n",
    "\n",
    "for i in range(100):\n",
    "\n",
    "    xs, xu = get_similar_unlabeled(X_train_orig, y_train_orig, 500, 500)\n",
    "    X_train, y_train = convert_su_data_sklearn_compatible(xs, xu)\n",
    "\n",
    "#     est_prior = class_prior_estimation(xs, xu)\n",
    "    est_prior = 0.54\n",
    "\n",
    "    # cross-validation\n",
    "    lam_list = [1e-01, 1e-04, 1e-07]\n",
    "    score_cv_list = []\n",
    "    for lam in lam_list:\n",
    "        clf = SU_SL(prior=est_prior, lam=lam)\n",
    "        score_cv = cross_val_score(clf, X_train, y_train, cv=5).mean()\n",
    "        score_cv_list.append(score_cv)\n",
    "\n",
    "    # training with the best hyperparameter\n",
    "    lam_best = lam_list[np.argmax(score_cv_list)]\n",
    "    clf = SU_SL(prior=est_prior, lam=lam_best)\n",
    "    clf.fit(X_train, y_train)\n",
    "\n",
    "    # test prediction\n",
    "    y_pred = clf.predict(X_test_orig)\n",
    "    accuracy = accuracy_score(y_test_orig, y_pred)\n",
    "    acc_ls.append(max(accuracy, 1 - accuracy))\n",
    "#     print('%.2f' % acc_ls[i])\n",
    "\n",
    "#     print(np.unique(y_pred, return_counts=True), \n",
    "#           np.unique(y_test_orig, return_counts=True),\n",
    "#           sep='\\n')\n",
    "\n",
    "np.mean(acc_ls)"
   ]
  }
 ],
 "metadata": {
  "kernelspec": {
   "display_name": "Python 3",
   "language": "python",
   "name": "python3"
  },
  "language_info": {
   "codemirror_mode": {
    "name": "ipython",
    "version": 3
   },
   "file_extension": ".py",
   "mimetype": "text/x-python",
   "name": "python",
   "nbconvert_exporter": "python",
   "pygments_lexer": "ipython3",
   "version": "3.7.7"
  }
 },
 "nbformat": 4,
 "nbformat_minor": 2
}
