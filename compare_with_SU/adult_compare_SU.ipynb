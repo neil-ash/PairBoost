{
 "cells": [
  {
   "cell_type": "code",
   "execution_count": 1,
   "metadata": {
    "scrolled": true
   },
   "outputs": [],
   "source": [
    "# %load_ext autoreload\n",
    "# %autoreload 2"
   ]
  },
  {
   "cell_type": "code",
   "execution_count": 2,
   "metadata": {},
   "outputs": [],
   "source": [
    "import numpy as np\n",
    "import pandas as pd\n",
    "from sklearn.datasets import load_svmlight_file\n",
    "from sklearn.model_selection import train_test_split\n",
    "import sys; sys.path.insert(0,'..')\n",
    "from main import *\n",
    "\n",
    "from SU_Classification.su_learning import *\n",
    "from SU_Classification import misc"
   ]
  },
  {
   "cell_type": "code",
   "execution_count": 3,
   "metadata": {},
   "outputs": [],
   "source": [
    "X_train_orig, y_train_orig = load_svmlight_file('../data/adult/a5a.txt', n_features=123)\n",
    "X_train_orig = X_train_orig.toarray()\n",
    "\n",
    "X_test_orig, y_test_orig = load_svmlight_file('../data/adult/a5a.t')\n",
    "X_test_orig = X_test_orig.toarray()"
   ]
  },
  {
   "cell_type": "code",
   "execution_count": 55,
   "metadata": {},
   "outputs": [],
   "source": [
    "def get_similar_unlabeled(X_train, y_train, X_test, y_test, ns, nu, \n",
    "                          prior=0.7, train_size=5000, test_size=500, su_cutoff=2500):\n",
    "    \"\"\" \n",
    "    Returns similar and unlabeled pairs: xs, xu\n",
    "    \n",
    "    Note) true prior is set as 0.7 to be consistent with results in Table 4 of the Tokyo SU\n",
    "          paper, train_size and su_cutoff are used to ensure that similar and unlabeled points\n",
    "          are from disjoint sets\n",
    "    \"\"\"\n",
    "\n",
    "    # Only use some of training data\n",
    "    train_samples = np.random.permutation(X_train.shape[0])[:train_size]\n",
    "    X_train = X_train[train_samples]\n",
    "    y_train = y_train[train_samples]\n",
    "\n",
    "    # Sample similar and unlabeled points from disjoint sets\n",
    "    X_s_set = X_train[:su_cutoff]\n",
    "    y_s_set = y_train[:su_cutoff]\n",
    "    X_u_set = X_train[su_cutoff:]\n",
    "    y_u_set = y_train[su_cutoff:]\n",
    "\n",
    "    # Calculate number of positive/negative similar pairs using prior\n",
    "    nsp = np.random.binomial(ns, prior**2 / (prior**2 + (1-prior)**2))\n",
    "    nsn = ns - nsp\n",
    "    \n",
    "    # Similar: get positive pairs and negative pairs\n",
    "    X_s_pos = X_s_set[np.where(y_s_set ==  1)]\n",
    "    X_s_neg = X_s_set[np.where(y_s_set == -1)]\n",
    "\n",
    "    # Get similar pairs\n",
    "    xs = np.concatenate((np.hstack((X_s_pos[np.random.choice(X_s_pos.shape[0], nsp)], \n",
    "                                    X_s_pos[np.random.choice(X_s_pos.shape[0], nsp)])),\n",
    "                         np.hstack((X_s_neg[np.random.choice(X_s_neg.shape[0], nsn)], \n",
    "                                    X_s_neg[np.random.choice(X_s_neg.shape[0], nsn)]))))\n",
    "\n",
    "    # Calculate number of positve/negative unlabeled points using prior\n",
    "    nup = np.random.binomial(nu, prior)\n",
    "    nun = nu - nup\n",
    "\n",
    "    # Unlabeled: get positive pairs and negative pairs\n",
    "    X_u_pos = X_u_set[np.where(y_u_set ==  1)]\n",
    "    X_u_neg = X_u_set[np.where(y_u_set == -1)]\n",
    "\n",
    "    # Get unlabeled points\n",
    "    xu = np.concatenate((X_u_pos[np.random.choice(X_u_pos.shape[0], nup)], \n",
    "                         X_u_neg[np.random.choice(X_u_neg.shape[0], nun)]))\n",
    "    \n",
    "    # Sample test data according to class prior\n",
    "    ntp = int(test_size * prior)\n",
    "    ntn = test_size - ntp\n",
    "    X_test_new = np.concatenate((shuffle(X_test[y_test ==  1])[:ntp],\n",
    "                                 shuffle(X_test[y_test == -1])[:ntn]))\n",
    "    y_test_new = np.concatenate((np.ones(ntp), -np.ones(ntn)))\n",
    "    X_test_new, y_test_new = shuffle(X_test_new, y_test_new)\n",
    "\n",
    "    return xs, xu, X_test_new, y_test_new"
   ]
  },
  {
   "cell_type": "markdown",
   "metadata": {},
   "source": [
    "# New"
   ]
  },
  {
   "cell_type": "code",
   "execution_count": 66,
   "metadata": {},
   "outputs": [
    {
     "name": "stdout",
     "output_type": "stream",
     "text": [
      "Accuracy: 0.71\n"
     ]
    }
   ],
   "source": [
    "xs, xu, X_test_new, y_test_new = get_similar_unlabeled(X_train_orig, y_train_orig, X_test_orig, y_test_orig,\n",
    "                                                       ns=500, nu=500, prior=0.7)\n",
    "X_train, y_train = convert_su_data_sklearn_compatible(xs, xu)\n",
    "\n",
    "est_prior = class_prior_estimation(xs, xu)\n",
    "\n",
    "# Cross-validation\n",
    "lam_list = [1e-01, 1e-04, 1e-07]\n",
    "score_cv_list = []\n",
    "for lam in lam_list:\n",
    "    clf = SU_DH(prior=est_prior, lam=lam)\n",
    "    score_cv = cross_val_score(clf, X_train, y_train, cv=5).mean()\n",
    "    score_cv_list.append(score_cv)\n",
    "\n",
    "# Training with the best hyperparameter\n",
    "lam_best = lam_list[np.argmax(score_cv_list)]\n",
    "clf = SU_SL(prior=est_prior, lam=lam_best)\n",
    "clf.fit(X_train, y_train)\n",
    "\n",
    "y_pred = clf.predict(X_test_new)\n",
    "accuracy = accuracy_score(y_test_new, y_pred)\n",
    "print('Accuracy: %.2f' % accuracy)"
   ]
  },
  {
   "cell_type": "code",
   "execution_count": 68,
   "metadata": {},
   "outputs": [
    {
     "data": {
      "text/plain": [
       "(array([-1.,  1.]), array([203, 297]))"
      ]
     },
     "execution_count": 68,
     "metadata": {},
     "output_type": "execute_result"
    }
   ],
   "source": [
    "np.unique(y_pred, return_counts=True)"
   ]
  },
  {
   "cell_type": "markdown",
   "metadata": {},
   "source": [
    "# Old"
   ]
  },
  {
   "cell_type": "code",
   "execution_count": 36,
   "metadata": {},
   "outputs": [],
   "source": [
    "xs, xu = get_similar_unlabeled(X_train_orig, y_train_orig, 500, 500, prior=0.7)\n",
    "X_train, y_train = convert_su_data_sklearn_compatible(xs, xu)"
   ]
  },
  {
   "cell_type": "code",
   "execution_count": 54,
   "metadata": {},
   "outputs": [
    {
     "data": {
      "text/plain": [
       "(0.23987455539832486, (array([1.]), array([26147])))"
      ]
     },
     "execution_count": 54,
     "metadata": {},
     "output_type": "execute_result"
    }
   ],
   "source": [
    "# est_prior = class_prior_estimation(xs, xu)\n",
    "# print('Estimated prior %.2f' % est_prior)\n",
    "\n",
    "clf = SU_DH(prior=0.51, lam=1e-01)\n",
    "clf.fit(X_train, y_train)\n",
    "\n",
    "y_pred = clf.predict(X_test_orig)\n",
    "accuracy = accuracy_score(y_test_orig, y_pred)\n",
    "\n",
    "accuracy, np.unique(y_pred.ravel(), return_counts=True)"
   ]
  },
  {
   "cell_type": "code",
   "execution_count": 31,
   "metadata": {},
   "outputs": [
    {
     "name": "stdout",
     "output_type": "stream",
     "text": [
      "Estimated prior 0.54\n"
     ]
    },
    {
     "data": {
      "text/plain": [
       "0.6618732550579416"
      ]
     },
     "execution_count": 31,
     "metadata": {},
     "output_type": "execute_result"
    }
   ],
   "source": [
    "acc_ls = []\n",
    "\n",
    "for i in range(1):\n",
    "\n",
    "    est_prior = class_prior_estimation(xs, xu)\n",
    "#     est_prior = 0.51\n",
    "    print('Estimated prior %.2f' % est_prior)\n",
    "\n",
    "    # cross-validation\n",
    "    lam_list = [1e-01, 1e-04, 1e-07]\n",
    "    score_cv_list = []\n",
    "    for lam in lam_list:\n",
    "        clf = SU_SL(prior=est_prior, lam=lam)\n",
    "        score_cv = cross_val_score(clf, X_train, y_train, cv=5).mean()\n",
    "        score_cv_list.append(score_cv)\n",
    "\n",
    "    # training with the best hyperparameter\n",
    "    lam_best = lam_list[np.argmax(score_cv_list)]\n",
    "    clf = SU_SL(prior=est_prior, lam=lam_best)\n",
    "    clf.fit(X_train, y_train)\n",
    "\n",
    "    # test prediction\n",
    "    y_pred = clf.predict(X_test_orig)\n",
    "    accuracy = accuracy_score(y_test_orig, y_pred)\n",
    "    acc_ls.append(max(accuracy, 1 - accuracy))\n",
    "#     print('%.2f' % acc_ls[i])\n",
    "\n",
    "#     print(np.unique(y_pred, return_counts=True), \n",
    "#           np.unique(y_test_orig, return_counts=True),\n",
    "#           sep='\\n')\n",
    "\n",
    "np.mean(acc_ls)"
   ]
  }
 ],
 "metadata": {
  "kernelspec": {
   "display_name": "Python 3",
   "language": "python",
   "name": "python3"
  },
  "language_info": {
   "codemirror_mode": {
    "name": "ipython",
    "version": 3
   },
   "file_extension": ".py",
   "mimetype": "text/x-python",
   "name": "python",
   "nbconvert_exporter": "python",
   "pygments_lexer": "ipython3",
   "version": "3.7.7"
  }
 },
 "nbformat": 4,
 "nbformat_minor": 2
}
