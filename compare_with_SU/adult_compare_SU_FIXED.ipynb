{
 "cells": [
  {
   "cell_type": "code",
   "execution_count": 1,
   "metadata": {
    "scrolled": true
   },
   "outputs": [],
   "source": [
    "# %load_ext autoreload\n",
    "# %autoreload 2"
   ]
  },
  {
   "cell_type": "code",
   "execution_count": 2,
   "metadata": {},
   "outputs": [],
   "source": [
    "import numpy as np\n",
    "import pandas as pd\n",
    "from sklearn.datasets import load_svmlight_file\n",
    "from sklearn.model_selection import train_test_split\n",
    "import sys; sys.path.insert(0,'..')\n",
    "from main import *\n",
    "\n",
    "from SU_Classification.su_learning import *\n",
    "from SU_Classification import misc"
   ]
  },
  {
   "cell_type": "code",
   "execution_count": 45,
   "metadata": {},
   "outputs": [],
   "source": [
    "X_train, y_train = load_svmlight_file('../data/adult/a5a.txt', n_features=123)\n",
    "X_train = X_train.toarray()\n",
    "\n",
    "X_test, y_test = load_svmlight_file('../data/adult/a5a.t')\n",
    "X_test = X_test.toarray()"
   ]
  },
  {
   "cell_type": "markdown",
   "metadata": {},
   "source": [
    "## From github"
   ]
  },
  {
   "cell_type": "code",
   "execution_count": 4,
   "metadata": {},
   "outputs": [],
   "source": [
    "def get_similar_unlabeled(X_train, y_train, ns, nu, train_size=5000, su_cutoff=2500):\n",
    "\n",
    "    # Use prior from dataset\n",
    "    prior = np.sum(y_train == 1) / y_train.shape[0]\n",
    "    \n",
    "    # Sizes of sets to sample similar, unlabeled points\n",
    "    train_size = 5000\n",
    "    su_cutoff  = 2500\n",
    "\n",
    "    # Only use some of training data\n",
    "    train_samples = np.random.permutation(X_train.shape[0])[:train_size]\n",
    "    X_train = X_train[train_samples]\n",
    "    y_train = y_train[train_samples]\n",
    "\n",
    "    # Sample similar and unlabeled points from disjoint sets\n",
    "    X_s_set = X_train[:su_cutoff]\n",
    "    y_s_set = y_train[:su_cutoff]\n",
    "    X_u_set = X_train[su_cutoff:]\n",
    "    y_u_set = y_train[su_cutoff:]\n",
    "\n",
    "    # Calculate number of positive/negative similar pairs using prior\n",
    "    nsp = np.random.binomial(ns, prior**2 / (prior**2 + (1-prior)**2))\n",
    "    nsn = ns - nsp\n",
    "    \n",
    "    # Similar: get positive pairs and negative pairs\n",
    "    X_s_pos = X_s_set[np.where(y_s_set ==  1)]\n",
    "    X_s_neg = X_s_set[np.where(y_s_set == -1)]\n",
    "\n",
    "    # Get similar pairs\n",
    "    xs = np.concatenate((np.hstack((X_s_pos[np.random.choice(X_s_pos.shape[0], nsp)], \n",
    "                                    X_s_pos[np.random.choice(X_s_pos.shape[0], nsp)])),\n",
    "                         np.hstack((X_s_neg[np.random.choice(X_s_neg.shape[0], nsn)], \n",
    "                                    X_s_neg[np.random.choice(X_s_neg.shape[0], nsn)]))))\n",
    "\n",
    "    # Calculate number of positve/negative unlabeled points using prior\n",
    "    nup = np.random.binomial(nu, prior)\n",
    "    nun = nu - nup\n",
    "\n",
    "    # Unlabeled: get positive pairs and negative pairs\n",
    "    X_u_pos = X_u_set[np.where(y_u_set ==  1)]\n",
    "    X_u_neg = X_u_set[np.where(y_u_set == -1)]\n",
    "\n",
    "    # Get unlabeled points\n",
    "    xu = np.concatenate((X_u_pos[np.random.choice(X_u_pos.shape[0], nup)], \n",
    "                         X_u_neg[np.random.choice(X_u_neg.shape[0], nun)]))\n",
    "    \n",
    "    return xs, xu"
   ]
  },
  {
   "cell_type": "code",
   "execution_count": 46,
   "metadata": {},
   "outputs": [],
   "source": [
    "# ns = 500\n",
    "# nu = 500\n",
    "# prior = 0.3\n",
    "\n",
    "prior = 0.24\n",
    "\n",
    "ns = 500\n",
    "nu = 500\n",
    "\n",
    "# Sizes of sets to sample similar, unlabeled points\n",
    "train_size = 5000\n",
    "su_cutoff  = 2500\n",
    "\n",
    "# Only use some of training data\n",
    "train_samples = np.random.permutation(X_train.shape[0])[:train_size]\n",
    "X_train = X_train[train_samples]\n",
    "y_train = y_train[train_samples]\n",
    "\n",
    "# Sample similar and unlabeled points from disjoint sets\n",
    "X_s_set = X_train[:su_cutoff]\n",
    "y_s_set = y_train[:su_cutoff]\n",
    "X_u_set = X_train[su_cutoff:]\n",
    "y_u_set = y_train[su_cutoff:]\n",
    "\n",
    "# Similar: get positive pairs and negative pairs\n",
    "X_s_pos = X_s_set[np.where(y_s_set ==  1)]\n",
    "X_s_neg = X_s_set[np.where(y_s_set == -1)]\n",
    "\n",
    "nsp = np.random.binomial(ns, prior**2 / (prior**2 + (1-prior)**2))\n",
    "nsn = ns - nsp\n",
    "\n",
    "xs = np.concatenate((np.hstack((X_s_pos[np.random.choice(X_s_pos.shape[0], nsp)], \n",
    "                                X_s_pos[np.random.choice(X_s_pos.shape[0], nsp)])),\n",
    "                     np.hstack((X_s_neg[np.random.choice(X_s_neg.shape[0], nsn)], \n",
    "                                X_s_neg[np.random.choice(X_s_neg.shape[0], nsn)]))))\n",
    "\n",
    "nup = np.random.binomial(nu, prior)\n",
    "nun = nu - nup\n",
    "\n",
    "X_u_pos = X_u_set[np.where(y_u_set ==  1)]\n",
    "X_u_neg = X_u_set[np.where(y_u_set == -1)]\n",
    "\n",
    "xu = np.concatenate((X_u_pos[np.random.choice(X_u_pos.shape[0], nup)], \n",
    "                     X_u_neg[np.random.choice(X_u_neg.shape[0], nun)]))"
   ]
  },
  {
   "cell_type": "code",
   "execution_count": 50,
   "metadata": {},
   "outputs": [
    {
     "name": "stdout",
     "output_type": "stream",
     "text": [
      "0.7601254446016752\n",
      "(array([1.]), array([26147]))\n",
      "(array([-1.,  1.]), array([19875,  6272]))\n",
      "CPU times: user 27.9 s, sys: 279 ms, total: 28.2 s\n",
      "Wall time: 12.3 s\n"
     ]
    }
   ],
   "source": [
    "%%time\n",
    "X_train, y_train = convert_su_data_sklearn_compatible(xs, xu)\n",
    "\n",
    "# prior_estimate = class_prior_estimation(xs, xu)\n",
    "prior_estimate = 0.5382\n",
    "print('Prior estimate:', prior_estimate)\n",
    "\n",
    "clf = SU_DH(prior=prior_estimate, lam=1e-01)\n",
    "clf.fit(X_train, y_train)\n",
    "\n",
    "y_pred = clf.predict(X_test)\n",
    "acc = accuracy_score(y_test, y_pred)\n",
    "print(max(acc, 1 - acc), \n",
    "      np.unique(y_pred, return_counts=True), \n",
    "      np.unique(y_test, return_counts=True),\n",
    "      sep='\\n')"
   ]
  },
  {
   "cell_type": "code",
   "execution_count": 10,
   "metadata": {},
   "outputs": [],
   "source": [
    "# def synth_dataset(ns, nu, prior, dim=2):\n",
    "#     nsp = np.random.binomial(ns, prior**2 / (prior**2 + (1-prior)**2))\n",
    "#     nsn = ns - nsp\n",
    "#     xs = np.concatenate((\n",
    "#         np.hstack((gen1(nsp, dim), gen1(nsp, dim))),\n",
    "#         np.hstack((gen0(nsn, dim), gen0(nsn, dim)))))\n",
    "\n",
    "#     nup = np.random.binomial(nu, prior)\n",
    "#     nun = nu - nup\n",
    "#     xu = np.concatenate((gen1(nup, dim), gen0(nun, dim)))\n",
    "\n",
    "#     return xs, xu"
   ]
  }
 ],
 "metadata": {
  "kernelspec": {
   "display_name": "Python 3",
   "language": "python",
   "name": "python3"
  },
  "language_info": {
   "codemirror_mode": {
    "name": "ipython",
    "version": 3
   },
   "file_extension": ".py",
   "mimetype": "text/x-python",
   "name": "python",
   "nbconvert_exporter": "python",
   "pygments_lexer": "ipython3",
   "version": "3.7.7"
  }
 },
 "nbformat": 4,
 "nbformat_minor": 2
}
