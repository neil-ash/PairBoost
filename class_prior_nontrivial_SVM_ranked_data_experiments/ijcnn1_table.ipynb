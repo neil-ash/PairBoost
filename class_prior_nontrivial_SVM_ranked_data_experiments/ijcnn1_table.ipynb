{
 "cells": [
  {
   "cell_type": "code",
   "execution_count": 1,
   "metadata": {},
   "outputs": [],
   "source": [
    "import numpy as np\n",
    "import pandas as pd\n",
    "from sklearn.datasets import load_svmlight_file\n",
    "from sklearn.model_selection import train_test_split\n",
    "import sys; sys.path.insert(0,'..')\n",
    "from main import *"
   ]
  },
  {
   "cell_type": "code",
   "execution_count": 2,
   "metadata": {},
   "outputs": [],
   "source": [
    "X_train, y_train = load_svmlight_file('../data/ijcnn1/ijcnn1.tr')\n",
    "X_train = X_train.toarray()\n",
    "\n",
    "X_test, y_test = load_svmlight_file('../data/ijcnn1/ijcnn1.t')\n",
    "X_test = X_test.toarray()"
   ]
  },
  {
   "cell_type": "code",
   "execution_count": 3,
   "metadata": {},
   "outputs": [
    {
     "name": "stdout",
     "output_type": "stream",
     "text": [
      "PRELIMINARY\n",
      "Training accuracy of supervised SVM: 0.90\n",
      "\n",
      "GENERATE W\n",
      "[[-1. -1.]\n",
      " [-1.  1.]\n",
      " [ 1. -1.]\n",
      " [ 1.  1.]] [41  4  4  1]\n",
      "Training accuracy of pairwise rank SVM: 0.82\n",
      "\n",
      "WITH CLASS PRIOR 0.10\n",
      "LINEAR SVM SUBMODELS\n",
      "Using 20 classifiers and sample proportion of 1\n",
      "t\tPrior\t\tTrain\t\tTest\n",
      "1\t0.21\t\t0.86\t\t0.71\n",
      "2\t0.22\t\t0.89\t\t0.85\n",
      "3\t0.15\t\t0.89\t\t0.85\n",
      "4\t0.11\t\t0.90\t\t0.88\n",
      "5\t0.09\t\t0.90\t\t0.86\n",
      "6\t0.07\t\t0.90\t\t0.88\n",
      "7\t0.09\t\t0.90\t\t0.87\n",
      "8\t0.11\t\t0.90\t\t0.88\n",
      "9\t0.09\t\t0.90\t\t0.87\n",
      "10\t0.10\t\t0.90\t\t0.88\n",
      "11\t0.10\t\t0.90\t\t0.87\n",
      "12\t0.10\t\t0.90\t\t0.88\n",
      "13\t0.11\t\t0.90\t\t0.87\n",
      "14\t0.08\t\t0.90\t\t0.88\n",
      "15\t0.06\t\t0.90\t\t0.87\n",
      "16\t0.07\t\t0.90\t\t0.88\n",
      "17\t0.09\t\t0.90\t\t0.87\n",
      "18\t0.08\t\t0.90\t\t0.87\n",
      "19\t0.09\t\t0.90\t\t0.87\n",
      "20\t0.08\t\t0.90\t\t0.87\n",
      "t = 4 was best iteration with accuracy 0.88\n",
      "\n",
      "WITH CLASS PRIOR 0.10\n",
      "DECISION TREE SUBMODELS\n",
      "Using 20 classifiers and sample proportion of 1\n",
      "t\tPrior\t\tTrain\t\tTest\n",
      "1\t0.18\t\t0.87\t\t0.72\n",
      "2\t0.17\t\t0.87\t\t0.72\n",
      "3\t0.08\t\t0.88\t\t0.88\n",
      "4\t0.08\t\t0.88\t\t0.88\n",
      "5\t0.09\t\t0.90\t\t0.90\n",
      "6\t0.49\t\t0.89\t\t0.88\n",
      "7\t0.11\t\t0.90\t\t0.89\n",
      "8\t0.53\t\t0.78\t\t0.57\n",
      "9\t0.12\t\t0.84\t\t0.66\n",
      "10\t0.10\t\t0.85\t\t0.75\n",
      "11\t0.10\t\t0.86\t\t0.77\n",
      "12\t0.11\t\t0.87\t\t0.81\n",
      "13\t0.12\t\t0.90\t\t0.87\n",
      "14\t0.19\t\t0.90\t\t0.90\n",
      "15\t0.54\t\t0.87\t\t0.85\n",
      "16\t0.13\t\t0.90\t\t0.90\n",
      "17\t0.47\t\t0.84\t\t0.68\n",
      "18\t0.13\t\t0.86\t\t0.75\n",
      "19\t0.12\t\t0.87\t\t0.82\n",
      "20\t0.16\t\t0.90\t\t0.86\n",
      "t = 5 was best iteration with accuracy 0.90\n",
      "\n",
      "-----------------------------------------------\n",
      "1 / 2 complete\n",
      "-----------------------------------------------\n",
      "\n",
      "PRELIMINARY\n",
      "Training accuracy of supervised SVM: 0.91\n",
      "\n",
      "GENERATE W\n",
      "[[-1. -1.]\n",
      " [-1.  1.]\n",
      " [ 1. -1.]\n",
      " [ 1.  1.]] [162  15  20   3]\n",
      "Training accuracy of pairwise rank SVM: 0.88\n",
      "\n",
      "WITH CLASS PRIOR 0.10\n",
      "LINEAR SVM SUBMODELS\n",
      "Using 20 classifiers and sample proportion of 1\n",
      "t\tPrior\t\tTrain\t\tTest\n",
      "1\t0.19\t\t0.89\t\t0.77\n",
      "2\t0.20\t\t0.91\t\t0.85\n",
      "3\t0.17\t\t0.91\t\t0.85\n",
      "4\t0.20\t\t0.91\t\t0.86\n",
      "5\t0.22\t\t0.91\t\t0.86\n",
      "6\t0.19\t\t0.91\t\t0.86\n",
      "7\t0.21\t\t0.91\t\t0.86\n",
      "8\t0.17\t\t0.90\t\t0.86\n",
      "9\t0.19\t\t0.90\t\t0.86\n",
      "10\t0.18\t\t0.90\t\t0.86\n",
      "11\t0.15\t\t0.90\t\t0.85\n",
      "12\t0.18\t\t0.91\t\t0.86\n",
      "13\t0.19\t\t0.90\t\t0.85\n",
      "14\t0.19\t\t0.90\t\t0.85\n",
      "15\t0.17\t\t0.90\t\t0.85\n",
      "16\t0.19\t\t0.90\t\t0.86\n",
      "17\t0.20\t\t0.90\t\t0.85\n",
      "18\t0.19\t\t0.90\t\t0.85\n",
      "19\t0.18\t\t0.90\t\t0.85\n",
      "20\t0.17\t\t0.90\t\t0.85\n",
      "t = 2 was best iteration with accuracy 0.85\n",
      "\n",
      "WITH CLASS PRIOR 0.10\n",
      "DECISION TREE SUBMODELS\n",
      "Using 20 classifiers and sample proportion of 1\n",
      "t\tPrior\t\tTrain\t\tTest\n",
      "1\t0.19\t\t0.82\t\t0.72\n",
      "2\t0.12\t\t0.87\t\t0.85\n",
      "3\t0.17\t\t0.90\t\t0.88\n",
      "4\t0.12\t\t0.90\t\t0.89\n",
      "5\t0.11\t\t0.90\t\t0.91\n",
      "6\t0.12\t\t0.91\t\t0.90\n",
      "7\t0.17\t\t0.83\t\t0.84\n",
      "8\t0.11\t\t0.88\t\t0.86\n",
      "9\t0.13\t\t0.90\t\t0.87\n",
      "10\t0.11\t\t0.90\t\t0.88\n",
      "11\t0.20\t\t0.90\t\t0.91\n",
      "12\t0.14\t\t0.91\t\t0.91\n"
     ]
    },
    {
     "name": "stderr",
     "output_type": "stream",
     "text": [
      "../main.py:59: RuntimeWarning: overflow encountered in exp\n",
      "  return np.exp(-y).dot(np.exp(y).T)\n"
     ]
    },
    {
     "ename": "ValueError",
     "evalue": "probabilities contain NaN",
     "output_type": "error",
     "traceback": [
      "\u001b[0;31m---------------------------------------------------------------------------\u001b[0m",
      "\u001b[0;31mValueError\u001b[0m                                Traceback (most recent call last)",
      "\u001b[0;32m<ipython-input-3-42815b63c18e>\u001b[0m in \u001b[0;36m<module>\u001b[0;34m\u001b[0m\n\u001b[1;32m      1\u001b[0m svm_arr, tree_arr = data_size_experiment(X_train, y_train, X_test, y_test,\n\u001b[1;32m      2\u001b[0m                                          \u001b[0mexperiment_type\u001b[0m\u001b[0;34m=\u001b[0m\u001b[0;34m'table'\u001b[0m\u001b[0;34m,\u001b[0m \u001b[0mkernel\u001b[0m\u001b[0;34m=\u001b[0m\u001b[0;34m'linear'\u001b[0m\u001b[0;34m,\u001b[0m\u001b[0;34m\u001b[0m\u001b[0;34m\u001b[0m\u001b[0m\n\u001b[0;32m----> 3\u001b[0;31m                                          random_state=107, verbose=True)\n\u001b[0m",
      "\u001b[0;32m~/Desktop/Thesis/PairBoost/main.py\u001b[0m in \u001b[0;36mdata_size_experiment\u001b[0;34m(X_train, y_train, X_test, y_test, experiment_type, kernel, random_state, verbose)\u001b[0m\n\u001b[1;32m    845\u001b[0m                                                                                 \u001b[0mW\u001b[0m\u001b[0;34m,\u001b[0m \u001b[0mprior\u001b[0m\u001b[0;34m,\u001b[0m\u001b[0;34m\u001b[0m\u001b[0;34m\u001b[0m\u001b[0m\n\u001b[1;32m    846\u001b[0m                                                                                 \u001b[0mT\u001b[0m\u001b[0;34m=\u001b[0m\u001b[0;36m20\u001b[0m\u001b[0;34m,\u001b[0m \u001b[0msample_prop\u001b[0m\u001b[0;34m=\u001b[0m\u001b[0;36m1\u001b[0m\u001b[0;34m,\u001b[0m\u001b[0;34m\u001b[0m\u001b[0;34m\u001b[0m\u001b[0m\n\u001b[0;32m--> 847\u001b[0;31m                                                                                 verbose=verbose)\n\u001b[0m\u001b[1;32m    848\u001b[0m \u001b[0;34m\u001b[0m\u001b[0m\n\u001b[1;32m    849\u001b[0m             \u001b[0mprint\u001b[0m\u001b[0;34m(\u001b[0m\u001b[0;34m'-----------------------------------------------'\u001b[0m\u001b[0;34m)\u001b[0m\u001b[0;34m\u001b[0m\u001b[0;34m\u001b[0m\u001b[0m\n",
      "\u001b[0;32m~/Desktop/Thesis/PairBoost/main.py\u001b[0m in \u001b[0;36mclass_prior_tree_lambdaboost\u001b[0;34m(X_train, y_train, X_test, y_test, W, prior, T, max_depth, sample_prop, random_seed, verbose)\u001b[0m\n\u001b[1;32m    700\u001b[0m         \u001b[0mp_weight\u001b[0m \u001b[0;34m=\u001b[0m \u001b[0mnp\u001b[0m\u001b[0;34m.\u001b[0m\u001b[0mabs\u001b[0m\u001b[0;34m(\u001b[0m\u001b[0mweight\u001b[0m\u001b[0;34m)\u001b[0m\u001b[0;34m\u001b[0m\u001b[0;34m\u001b[0m\u001b[0m\n\u001b[1;32m    701\u001b[0m         \u001b[0mp_weight\u001b[0m \u001b[0;34m/=\u001b[0m \u001b[0mnp\u001b[0m\u001b[0;34m.\u001b[0m\u001b[0msum\u001b[0m\u001b[0;34m(\u001b[0m\u001b[0mp_weight\u001b[0m\u001b[0;34m)\u001b[0m\u001b[0;34m\u001b[0m\u001b[0;34m\u001b[0m\u001b[0m\n\u001b[0;32m--> 702\u001b[0;31m         \u001b[0msample\u001b[0m \u001b[0;34m=\u001b[0m \u001b[0mnp\u001b[0m\u001b[0;34m.\u001b[0m\u001b[0mrandom\u001b[0m\u001b[0;34m.\u001b[0m\u001b[0mchoice\u001b[0m\u001b[0;34m(\u001b[0m\u001b[0mm\u001b[0m\u001b[0;34m,\u001b[0m \u001b[0msize\u001b[0m\u001b[0;34m=\u001b[0m\u001b[0mm\u001b[0m\u001b[0;34m*\u001b[0m\u001b[0msample_prop\u001b[0m\u001b[0;34m,\u001b[0m \u001b[0mreplace\u001b[0m\u001b[0;34m=\u001b[0m\u001b[0;32mTrue\u001b[0m\u001b[0;34m,\u001b[0m \u001b[0mp\u001b[0m\u001b[0;34m=\u001b[0m\u001b[0mp_weight\u001b[0m\u001b[0;34m)\u001b[0m\u001b[0;34m\u001b[0m\u001b[0;34m\u001b[0m\u001b[0m\n\u001b[0m\u001b[1;32m    703\u001b[0m         \u001b[0mX_sample\u001b[0m \u001b[0;34m=\u001b[0m \u001b[0mX_new\u001b[0m\u001b[0;34m[\u001b[0m\u001b[0msample\u001b[0m\u001b[0;34m]\u001b[0m\u001b[0;34m\u001b[0m\u001b[0;34m\u001b[0m\u001b[0m\n\u001b[1;32m    704\u001b[0m         \u001b[0my_sample\u001b[0m \u001b[0;34m=\u001b[0m \u001b[0my_new\u001b[0m\u001b[0;34m[\u001b[0m\u001b[0msample\u001b[0m\u001b[0;34m]\u001b[0m\u001b[0;34m\u001b[0m\u001b[0;34m\u001b[0m\u001b[0m\n",
      "\u001b[0;32mmtrand.pyx\u001b[0m in \u001b[0;36mnumpy.random.mtrand.RandomState.choice\u001b[0;34m()\u001b[0m\n",
      "\u001b[0;31mValueError\u001b[0m: probabilities contain NaN"
     ]
    }
   ],
   "source": [
    "svm_arr, tree_arr = data_size_experiment(X_train, y_train, X_test, y_test,\n",
    "                                         experiment_type='table', kernel='linear',\n",
    "                                         random_state=107, verbose=True)"
   ]
  },
  {
   "cell_type": "code",
   "execution_count": null,
   "metadata": {},
   "outputs": [],
   "source": [
    "table_results(svm_arr, tree_arr)"
   ]
  }
 ],
 "metadata": {
  "kernelspec": {
   "display_name": "Python 3",
   "language": "python",
   "name": "python3"
  },
  "language_info": {
   "codemirror_mode": {
    "name": "ipython",
    "version": 3
   },
   "file_extension": ".py",
   "mimetype": "text/x-python",
   "name": "python",
   "nbconvert_exporter": "python",
   "pygments_lexer": "ipython3",
   "version": "3.7.7"
  }
 },
 "nbformat": 4,
 "nbformat_minor": 2
}
