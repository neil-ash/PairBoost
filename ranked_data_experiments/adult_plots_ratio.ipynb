{
 "cells": [
  {
   "cell_type": "code",
   "execution_count": null,
   "metadata": {
    "scrolled": true
   },
   "outputs": [],
   "source": [
    "# %load_ext autoreload\n",
    "# %autoreload 2"
   ]
  },
  {
   "cell_type": "code",
   "execution_count": 1,
   "metadata": {},
   "outputs": [],
   "source": [
    "import numpy as np\n",
    "import pandas as pd\n",
    "from sklearn.datasets import load_svmlight_file\n",
    "from sklearn.model_selection import train_test_split\n",
    "import sys; sys.path.insert(0,'..')\n",
    "from main import *"
   ]
  },
  {
   "cell_type": "code",
   "execution_count": null,
   "metadata": {},
   "outputs": [],
   "source": [
    "X_train, y_train = load_svmlight_file('../data/adult/a5a.txt', n_features=123)\n",
    "X_train = X_train.toarray()\n",
    "\n",
    "X_test, y_test = load_svmlight_file('../data/adult/a5a.t')\n",
    "X_test = X_test.toarray()"
   ]
  },
  {
   "cell_type": "code",
   "execution_count": null,
   "metadata": {},
   "outputs": [],
   "source": [
    "svm_arr, tree_arr, ls_base = data_size_experiment(X_train, y_train, X_test, y_test,\n",
    "                                                  rank=True, rounded=True, \n",
    "                                                  plots_or_table='ratio',\n",
    "                                                  random_state=1, verbose=True)"
   ]
  },
  {
   "cell_type": "code",
   "execution_count": null,
   "metadata": {},
   "outputs": [],
   "source": [
    "# np.save('temp_arrays/n/adult_svm', svm_arr)"
   ]
  },
  {
   "cell_type": "code",
   "execution_count": null,
   "metadata": {},
   "outputs": [],
   "source": [
    "from matplotlib import pyplot as plt\n",
    "\n",
    "plt.style.use('seaborn-whitegrid')\n",
    "plt.rcParams[\"font.family\"] = \"Times New Roman\"\n",
    "plt.rcParams['figure.figsize'] = [5, 3]\n",
    "\n",
    "arr = svm_arr\n",
    "scale = 1\n",
    "\n",
    "fig = plt.figure()\n",
    "ax = fig.add_subplot()\n",
    "\n",
    "NUM_REPEATS = 10\n",
    "\n",
    "x = np.array([50, 100, 200, 400, 600, 800, 1600]) * 2\n",
    "y = np.mean(arr, axis=1)\n",
    "\n",
    "sderr = np.std(arr, axis=1)\n",
    "sderr = sderr / np.sqrt(NUM_REPEATS)\n",
    "\n",
    "ax.plot(x, y[:, 1], c='C1')\n",
    "ax.fill_between(x, y[:, 1] - (sderr[:, 1] * scale), y[:, 1] + (sderr[:, 1] * scale),\n",
    "             facecolors='C1', alpha=0.5)\n",
    "ax.scatter(x, y[:, 1], label='PairBoost', c='C1')\n",
    "\n",
    "ax.plot(x, ls_base, c='black')\n",
    "ax.scatter(x, ls_base, label='Supervised Baseline', c='black')\n",
    "\n",
    "ax.set_xlabel('n')\n",
    "ax.set_ylabel('Classification Error')\n",
    "\n",
    "# handles, labels = ax.get_legend_handles_labels()\n",
    "ax.legend(frameon=True ,shadow=True, fancybox=True, framealpha=1.0)\n",
    "\n",
    "fig.savefig('final_plots/n/adult.pdf', bbox_inches='tight')"
   ]
  }
 ],
 "metadata": {
  "kernelspec": {
   "display_name": "Python 3",
   "language": "python",
   "name": "python3"
  },
  "language_info": {
   "codemirror_mode": {
    "name": "ipython",
    "version": 3
   },
   "file_extension": ".py",
   "mimetype": "text/x-python",
   "name": "python",
   "nbconvert_exporter": "python",
   "pygments_lexer": "ipython3",
   "version": "3.7.7"
  }
 },
 "nbformat": 4,
 "nbformat_minor": 2
}
