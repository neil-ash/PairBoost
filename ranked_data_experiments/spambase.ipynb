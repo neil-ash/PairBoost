{
 "cells": [
  {
   "cell_type": "code",
   "execution_count": 1,
   "metadata": {},
   "outputs": [],
   "source": [
    "import numpy as np\n",
    "import pandas as pd\n",
    "from sklearn.preprocessing import MinMaxScaler\n",
    "from sklearn.model_selection import train_test_split\n",
    "import sys; sys.path.insert(0,'..')\n",
    "from main import *"
   ]
  },
  {
   "cell_type": "code",
   "execution_count": 7,
   "metadata": {},
   "outputs": [],
   "source": [
    "data = pd.read_csv('../data/spambase/spambase.data')\n",
    "X = data.iloc[:, :-1].values\n",
    "y  = data.iloc[:, -1].values\n",
    "\n",
    "# {0, 1} -> {-1, 1}\n",
    "y = y * 2 - 1\n",
    "\n",
    "scaler = MinMaxScaler(feature_range=(0, 1))\n",
    "\n",
    "for i in range(X.shape[1]):\n",
    "    X[:, i] = scaler.fit_transform(X[:, i].reshape(-1, 1)).ravel()\n",
    "\n",
    "X_train, X_test, y_train, y_test = train_test_split(X, y, test_size=0.2, stratify=y)"
   ]
  },
  {
   "cell_type": "code",
   "execution_count": 8,
   "metadata": {},
   "outputs": [],
   "source": [
    "W = generate_W(y_train)"
   ]
  },
  {
   "cell_type": "code",
   "execution_count": 9,
   "metadata": {},
   "outputs": [
    {
     "name": "stdout",
     "output_type": "stream",
     "text": [
      "LINEAR SVM SUBMODELS\n",
      "Using 20 classifiers, sample proportion of 4, and random seed 1\n",
      "t\tTrain\t\tTest\n",
      "1\t0.926\t\t0.925\n",
      "2\t0.919\t\t0.924\n",
      "3\t0.916\t\t0.924\n",
      "4\t0.914\t\t0.918\n",
      "5\t0.912\t\t0.920\n",
      "6\t0.912\t\t0.916\n",
      "7\t0.912\t\t0.916\n",
      "8\t0.912\t\t0.918\n",
      "9\t0.912\t\t0.920\n",
      "10\t0.912\t\t0.920\n",
      "11\t0.912\t\t0.920\n",
      "12\t0.912\t\t0.921\n",
      "13\t0.912\t\t0.920\n",
      "14\t0.912\t\t0.920\n",
      "15\t0.912\t\t0.918\n",
      "16\t0.913\t\t0.918\n",
      "17\t0.913\t\t0.918\n",
      "18\t0.913\t\t0.921\n",
      "19\t0.913\t\t0.921\n",
      "20\t0.912\t\t0.922\n",
      "Done!\n"
     ]
    }
   ],
   "source": [
    "svm_lambdaboost(X_train, y_train, X_test, y_test, W);"
   ]
  },
  {
   "cell_type": "code",
   "execution_count": null,
   "metadata": {},
   "outputs": [
    {
     "name": "stdout",
     "output_type": "stream",
     "text": [
      "DECISION TREE SUBMODELS\n",
      "Using 20 classifiers, sample proportion of 4, and random seed 1\n",
      "t\tTrain\t\tTest\n",
      "1\t0.914\t\t0.900\n",
      "2\t0.914\t\t0.900\n",
      "3\t0.926\t\t0.913\n",
      "4\t0.930\t\t0.923\n",
      "5\t0.935\t\t0.927\n",
      "6\t0.943\t\t0.933\n",
      "7\t0.950\t\t0.936\n",
      "8\t0.951\t\t0.933\n",
      "9\t0.951\t\t0.935\n",
      "10\t0.954\t\t0.937\n",
      "11\t0.954\t\t0.942\n",
      "12\t0.955\t\t0.941\n"
     ]
    }
   ],
   "source": [
    "tree_lambdaboost(X_train, y_train, X_test, y_test, W);"
   ]
  },
  {
   "cell_type": "code",
   "execution_count": null,
   "metadata": {},
   "outputs": [],
   "source": [
    "baselines(X_train, y_train, X_test, y_test)"
   ]
  }
 ],
 "metadata": {
  "kernelspec": {
   "display_name": "Python 3",
   "language": "python",
   "name": "python3"
  },
  "language_info": {
   "codemirror_mode": {
    "name": "ipython",
    "version": 3
   },
   "file_extension": ".py",
   "mimetype": "text/x-python",
   "name": "python",
   "nbconvert_exporter": "python",
   "pygments_lexer": "ipython3",
   "version": "3.7.4"
  }
 },
 "nbformat": 4,
 "nbformat_minor": 2
}
