{
 "cells": [
  {
   "cell_type": "code",
   "execution_count": 388,
   "metadata": {
    "scrolled": true
   },
   "outputs": [
    {
     "name": "stdout",
     "output_type": "stream",
     "text": [
      "The autoreload extension is already loaded. To reload it, use:\n",
      "  %reload_ext autoreload\n"
     ]
    }
   ],
   "source": [
    "%load_ext autoreload\n",
    "%autoreload 2"
   ]
  },
  {
   "cell_type": "code",
   "execution_count": 389,
   "metadata": {},
   "outputs": [],
   "source": [
    "import numpy as np\n",
    "import pandas as pd\n",
    "from sklearn.datasets import load_svmlight_file\n",
    "from sklearn.model_selection import train_test_split\n",
    "import sys; sys.path.insert(0,'..')\n",
    "from main import *"
   ]
  },
  {
   "cell_type": "code",
   "execution_count": 2,
   "metadata": {},
   "outputs": [],
   "source": [
    "X, y = load_svmlight_file('../data/adult/a5a.txt', n_features=123)\n",
    "X = X.toarray()"
   ]
  },
  {
   "cell_type": "code",
   "execution_count": 3,
   "metadata": {},
   "outputs": [
    {
     "name": "stdout",
     "output_type": "stream",
     "text": [
      "Progress:\n",
      "LINEAR SVM SUBMODELS\n",
      "Using 20 classifiers and sample proportion of 4\n",
      "t\tTrain\t\tTest\n",
      "1\t0.731\t\t0.724\n",
      "2\t0.469\t\t0.454\n",
      "3\t0.684\t\t0.694\n",
      "4\t0.773\t\t0.762\n",
      "5\t0.707\t\t0.688\n",
      "6\t0.589\t\t0.598\n",
      "7\t0.816\t\t0.830\n",
      "8\t0.569\t\t0.566\n",
      "9\t0.714\t\t0.702\n",
      "10\t0.809\t\t0.816\n",
      "11\t0.636\t\t0.634\n",
      "12\t0.746\t\t0.728\n",
      "13\t0.817\t\t0.816\n",
      "14\t0.769\t\t0.752\n",
      "15\t0.691\t\t0.684\n",
      "16\t0.819\t\t0.822\n",
      "17\t0.749\t\t0.730\n",
      "18\t0.717\t\t0.706\n",
      "19\t0.814\t\t0.800\n",
      "20\t0.770\t\t0.746\n",
      "Done!\n",
      "DECISION TREE SUBMODELS\n",
      "Using 20 classifiers and sample proportion of 4\n",
      "t\tTrain\t\tTest\n",
      "1\t0.686\t\t0.672\n",
      "2\t0.314\t\t0.322\n",
      "3\t0.686\t\t0.678\n",
      "4\t0.314\t\t0.324\n",
      "5\t0.687\t\t0.676\n",
      "6\t0.314\t\t0.324\n",
      "7\t0.686\t\t0.676\n",
      "8\t0.314\t\t0.328\n",
      "9\t0.686\t\t0.676\n",
      "10\t0.314\t\t0.326\n",
      "11\t0.770\t\t0.756\n",
      "12\t0.770\t\t0.756\n",
      "13\t0.770\t\t0.756\n",
      "14\t0.770\t\t0.756\n",
      "15\t0.770\t\t0.756\n",
      "16\t0.770\t\t0.756\n",
      "17\t0.770\t\t0.756\n",
      "18\t0.770\t\t0.756\n",
      "19\t0.770\t\t0.756\n",
      "20\t0.770\t\t0.756\n",
      "Done!\n",
      "1\n",
      "LINEAR SVM SUBMODELS\n",
      "Using 20 classifiers and sample proportion of 4\n",
      "t\tTrain\t\tTest\n",
      "1\t0.737\t\t0.708\n",
      "2\t0.413\t\t0.390\n",
      "3\t0.713\t\t0.726\n",
      "4\t0.783\t\t0.738\n",
      "5\t0.743\t\t0.742\n",
      "6\t0.626\t\t0.616\n",
      "7\t0.791\t\t0.756\n",
      "8\t0.634\t\t0.626\n",
      "9\t0.726\t\t0.704\n",
      "10\t0.773\t\t0.744\n",
      "11\t0.719\t\t0.704\n",
      "12\t0.761\t\t0.714\n",
      "13\t0.791\t\t0.790\n",
      "14\t0.663\t\t0.620\n",
      "15\t0.757\t\t0.760\n",
      "16\t0.757\t\t0.734\n",
      "17\t0.709\t\t0.692\n",
      "18\t0.800\t\t0.770\n",
      "19\t0.800\t\t0.816\n",
      "20\t0.644\t\t0.626\n",
      "Done!\n",
      "DECISION TREE SUBMODELS\n",
      "Using 20 classifiers and sample proportion of 4\n",
      "t\tTrain\t\tTest\n",
      "1\t0.703\t\t0.678\n",
      "2\t0.297\t\t0.324\n",
      "3\t0.703\t\t0.674\n",
      "4\t0.296\t\t0.328\n",
      "5\t0.703\t\t0.676\n",
      "6\t0.699\t\t0.674\n",
      "7\t0.333\t\t0.362\n",
      "8\t0.703\t\t0.682\n",
      "9\t0.327\t\t0.364\n",
      "10\t0.680\t\t0.658\n",
      "11\t0.327\t\t0.366\n",
      "12\t0.703\t\t0.682\n",
      "13\t0.704\t\t0.688\n",
      "14\t0.739\t\t0.704\n",
      "15\t0.740\t\t0.706\n",
      "16\t0.754\t\t0.722\n",
      "17\t0.751\t\t0.720\n",
      "18\t0.751\t\t0.726\n",
      "19\t0.760\t\t0.732\n",
      "20\t0.769\t\t0.736\n",
      "Done!\n",
      "2\n",
      "LINEAR SVM SUBMODELS\n",
      "Using 20 classifiers and sample proportion of 4\n",
      "t\tTrain\t\tTest\n",
      "1\t0.729\t\t0.708\n",
      "2\t0.437\t\t0.440\n",
      "3\t0.704\t\t0.704\n",
      "4\t0.766\t\t0.778\n",
      "5\t0.724\t\t0.694\n",
      "6\t0.634\t\t0.634\n",
      "7\t0.780\t\t0.744\n",
      "8\t0.497\t\t0.518\n",
      "9\t0.720\t\t0.700\n",
      "10\t0.780\t\t0.754\n",
      "11\t0.613\t\t0.594\n",
      "12\t0.696\t\t0.692\n",
      "13\t0.800\t\t0.790\n",
      "14\t0.666\t\t0.628\n",
      "15\t0.667\t\t0.682\n",
      "16\t0.810\t\t0.800\n",
      "17\t0.754\t\t0.734\n",
      "18\t0.704\t\t0.694\n",
      "19\t0.820\t\t0.794\n",
      "20\t0.747\t\t0.738\n",
      "Done!\n",
      "DECISION TREE SUBMODELS\n",
      "Using 20 classifiers and sample proportion of 4\n",
      "t\tTrain\t\tTest\n",
      "1\t0.701\t\t0.676\n",
      "2\t0.301\t\t0.324\n",
      "3\t0.699\t\t0.674\n",
      "4\t0.300\t\t0.322\n",
      "5\t0.300\t\t0.322\n",
      "6\t0.679\t\t0.652\n",
      "7\t0.679\t\t0.652\n",
      "8\t0.766\t\t0.748\n",
      "9\t0.754\t\t0.740\n",
      "10\t0.743\t\t0.708\n",
      "11\t0.763\t\t0.734\n",
      "12\t0.763\t\t0.726\n",
      "13\t0.766\t\t0.702\n",
      "14\t0.721\t\t0.704\n",
      "15\t0.691\t\t0.668\n",
      "16\t0.649\t\t0.646\n",
      "17\t0.636\t\t0.622\n",
      "18\t0.609\t\t0.578\n",
      "19\t0.619\t\t0.628\n",
      "20\t0.604\t\t0.568\n",
      "Done!\n",
      "3\n",
      "LINEAR SVM SUBMODELS\n",
      "Using 20 classifiers and sample proportion of 4\n",
      "t\tTrain\t\tTest\n",
      "1\t0.739\t\t0.714\n",
      "2\t0.470\t\t0.438\n",
      "3\t0.680\t\t0.668\n",
      "4\t0.729\t\t0.710\n",
      "5\t0.561\t\t0.532\n",
      "6\t0.623\t\t0.638\n",
      "7\t0.706\t\t0.692\n",
      "8\t0.484\t\t0.496\n",
      "9\t0.639\t\t0.614\n",
      "10\t0.630\t\t0.648\n",
      "11\t0.567\t\t0.542\n",
      "12\t0.631\t\t0.634\n",
      "13\t0.673\t\t0.646\n",
      "14\t0.514\t\t0.506\n",
      "15\t0.629\t\t0.614\n",
      "16\t0.577\t\t0.586\n",
      "17\t0.567\t\t0.542\n",
      "18\t0.621\t\t0.600\n",
      "19\t0.579\t\t0.582\n",
      "20\t0.551\t\t0.570\n",
      "Done!\n",
      "DECISION TREE SUBMODELS\n",
      "Using 20 classifiers and sample proportion of 4\n",
      "t\tTrain\t\tTest\n",
      "1\t0.694\t\t0.654\n",
      "2\t0.306\t\t0.338\n",
      "3\t0.691\t\t0.654\n",
      "4\t0.691\t\t0.654\n",
      "5\t0.734\t\t0.702\n",
      "6\t0.736\t\t0.696\n",
      "7\t0.773\t\t0.742\n",
      "8\t0.780\t\t0.750\n",
      "9\t0.774\t\t0.734\n",
      "10\t0.790\t\t0.748\n",
      "11\t0.779\t\t0.748\n",
      "12\t0.791\t\t0.748\n",
      "13\t0.781\t\t0.750\n",
      "14\t0.797\t\t0.756\n",
      "15\t0.803\t\t0.766\n",
      "16\t0.800\t\t0.756\n",
      "17\t0.791\t\t0.766\n",
      "18\t0.797\t\t0.758\n",
      "19\t0.804\t\t0.770\n",
      "20\t0.793\t\t0.758\n",
      "Done!\n",
      "4\n",
      "LINEAR SVM SUBMODELS\n",
      "Using 20 classifiers and sample proportion of 4\n",
      "t\tTrain\t\tTest\n",
      "1\t0.720\t\t0.702\n",
      "2\t0.341\t\t0.362\n",
      "3\t0.693\t\t0.688\n",
      "4\t0.709\t\t0.688\n",
      "5\t0.534\t\t0.518\n",
      "6\t0.646\t\t0.660\n",
      "7\t0.776\t\t0.748\n",
      "8\t0.427\t\t0.448\n",
      "9\t0.689\t\t0.676\n",
      "10\t0.760\t\t0.750\n",
      "11\t0.493\t\t0.580\n",
      "12\t0.656\t\t0.610\n",
      "13\t0.789\t\t0.760\n",
      "14\t0.634\t\t0.572\n",
      "15\t0.629\t\t0.660\n",
      "16\t0.690\t\t0.632\n",
      "17\t0.557\t\t0.576\n",
      "18\t0.653\t\t0.604\n",
      "19\t0.636\t\t0.676\n",
      "20\t0.627\t\t0.584\n",
      "Done!\n",
      "DECISION TREE SUBMODELS\n",
      "Using 20 classifiers and sample proportion of 4\n",
      "t\tTrain\t\tTest\n",
      "1\t0.679\t\t0.660\n",
      "2\t0.320\t\t0.340\n",
      "3\t0.679\t\t0.666\n",
      "4\t0.753\t\t0.756\n",
      "5\t0.753\t\t0.756\n",
      "6\t0.753\t\t0.756\n",
      "7\t0.753\t\t0.754\n",
      "8\t0.753\t\t0.754\n",
      "9\t0.753\t\t0.754\n",
      "10\t0.753\t\t0.754\n",
      "11\t0.753\t\t0.754\n",
      "12\t0.770\t\t0.750\n",
      "13\t0.639\t\t0.586\n",
      "14\t0.723\t\t0.694\n",
      "15\t0.739\t\t0.682\n",
      "16\t0.739\t\t0.678\n",
      "17\t0.749\t\t0.692\n",
      "18\t0.747\t\t0.678\n",
      "19\t0.749\t\t0.670\n",
      "20\t0.750\t\t0.660\n",
      "Done!\n",
      "5\n",
      "LINEAR SVM SUBMODELS\n",
      "Using 20 classifiers and sample proportion of 4\n",
      "t\tTrain\t\tTest\n",
      "1\t0.723\t\t0.704\n",
      "2\t0.417\t\t0.416\n",
      "3\t0.691\t\t0.692\n",
      "4\t0.754\t\t0.728\n",
      "5\t0.601\t\t0.584\n",
      "6\t0.587\t\t0.576\n",
      "7\t0.721\t\t0.712\n",
      "8\t0.539\t\t0.514\n",
      "9\t0.643\t\t0.626\n",
      "10\t0.767\t\t0.740\n",
      "11\t0.539\t\t0.582\n",
      "12\t0.653\t\t0.630\n",
      "13\t0.773\t\t0.794\n",
      "14\t0.549\t\t0.498\n",
      "15\t0.691\t\t0.702\n",
      "16\t0.776\t\t0.746\n",
      "17\t0.473\t\t0.480\n",
      "18\t0.716\t\t0.694\n",
      "19\t0.771\t\t0.756\n",
      "20\t0.636\t\t0.594\n",
      "Done!\n",
      "DECISION TREE SUBMODELS\n",
      "Using 20 classifiers and sample proportion of 4\n",
      "t\tTrain\t\tTest\n",
      "1\t0.693\t\t0.660\n",
      "2\t0.306\t\t0.340\n",
      "3\t0.689\t\t0.654\n",
      "4\t0.689\t\t0.654\n",
      "5\t0.747\t\t0.736\n",
      "6\t0.736\t\t0.714\n",
      "7\t0.746\t\t0.736\n",
      "8\t0.749\t\t0.732\n",
      "9\t0.756\t\t0.730\n",
      "10\t0.756\t\t0.736\n",
      "11\t0.767\t\t0.752\n",
      "12\t0.759\t\t0.736\n",
      "13\t0.777\t\t0.748\n",
      "14\t0.760\t\t0.738\n",
      "15\t0.774\t\t0.750\n",
      "16\t0.777\t\t0.752\n",
      "17\t0.774\t\t0.746\n",
      "18\t0.770\t\t0.752\n",
      "19\t0.773\t\t0.732\n",
      "20\t0.764\t\t0.716\n",
      "Done!\n",
      "6\n",
      "LINEAR SVM SUBMODELS\n",
      "Using 20 classifiers and sample proportion of 4\n",
      "t\tTrain\t\tTest\n",
      "1\t0.729\t\t0.730\n",
      "2\t0.407\t\t0.398\n",
      "3\t0.683\t\t0.694\n",
      "4\t0.736\t\t0.708\n",
      "5\t0.603\t\t0.630\n",
      "6\t0.550\t\t0.524\n",
      "7\t0.686\t\t0.704\n",
      "8\t0.449\t\t0.442\n",
      "9\t0.631\t\t0.660\n",
      "10\t0.597\t\t0.574\n",
      "11\t0.464\t\t0.502\n",
      "12\t0.613\t\t0.570\n",
      "13\t0.581\t\t0.602\n",
      "14\t0.580\t\t0.550\n",
      "15\t0.563\t\t0.578\n",
      "16\t0.606\t\t0.586\n",
      "17\t0.591\t\t0.576\n",
      "18\t0.590\t\t0.552\n",
      "19\t0.624\t\t0.614\n",
      "20\t0.561\t\t0.550\n",
      "Done!\n",
      "DECISION TREE SUBMODELS\n",
      "Using 20 classifiers and sample proportion of 4\n",
      "t\tTrain\t\tTest\n",
      "1\t0.706\t\t0.682\n",
      "2\t0.291\t\t0.316\n",
      "3\t0.706\t\t0.682\n",
      "4\t0.294\t\t0.318\n",
      "5\t0.706\t\t0.682\n",
      "6\t0.291\t\t0.318\n",
      "7\t0.706\t\t0.682\n",
      "8\t0.720\t\t0.696\n",
      "9\t0.720\t\t0.696\n",
      "10\t0.720\t\t0.696\n",
      "11\t0.747\t\t0.722\n",
      "12\t0.800\t\t0.778\n",
      "13\t0.764\t\t0.742\n",
      "14\t0.794\t\t0.774\n",
      "15\t0.770\t\t0.738\n",
      "16\t0.794\t\t0.774\n",
      "17\t0.789\t\t0.758\n",
      "18\t0.789\t\t0.760\n",
      "19\t0.796\t\t0.758\n",
      "20\t0.784\t\t0.766\n",
      "Done!\n",
      "7\n",
      "LINEAR SVM SUBMODELS\n",
      "Using 20 classifiers and sample proportion of 4\n",
      "t\tTrain\t\tTest\n",
      "1\t0.734\t\t0.710\n",
      "2\t0.391\t\t0.382\n",
      "3\t0.716\t\t0.734\n",
      "4\t0.796\t\t0.806\n",
      "5\t0.666\t\t0.646\n",
      "6\t0.640\t\t0.662\n",
      "7\t0.816\t\t0.810\n",
      "8\t0.709\t\t0.640\n",
      "9\t0.713\t\t0.710\n",
      "10\t0.800\t\t0.778\n",
      "11\t0.697\t\t0.702\n",
      "12\t0.673\t\t0.644\n",
      "13\t0.820\t\t0.798\n",
      "14\t0.567\t\t0.492\n",
      "15\t0.731\t\t0.744\n",
      "16\t0.779\t\t0.758\n",
      "17\t0.676\t\t0.684\n",
      "18\t0.667\t\t0.670\n",
      "19\t0.714\t\t0.732\n",
      "20\t0.653\t\t0.622\n",
      "Done!\n",
      "DECISION TREE SUBMODELS\n",
      "Using 20 classifiers and sample proportion of 4\n",
      "t\tTrain\t\tTest\n",
      "1\t0.700\t\t0.660\n",
      "2\t0.296\t\t0.330\n",
      "3\t0.701\t\t0.666\n",
      "4\t0.769\t\t0.750\n",
      "5\t0.769\t\t0.750\n",
      "6\t0.769\t\t0.750\n",
      "7\t0.769\t\t0.750\n",
      "8\t0.769\t\t0.750\n",
      "9\t0.769\t\t0.750\n",
      "10\t0.769\t\t0.750\n",
      "11\t0.769\t\t0.750\n",
      "12\t0.769\t\t0.750\n",
      "13\t0.769\t\t0.750\n",
      "14\t0.769\t\t0.750\n",
      "15\t0.769\t\t0.750\n",
      "16\t0.769\t\t0.750\n",
      "17\t0.769\t\t0.750\n",
      "18\t0.769\t\t0.750\n",
      "19\t0.769\t\t0.750\n",
      "20\t0.769\t\t0.750\n",
      "Done!\n",
      "8\n",
      "LINEAR SVM SUBMODELS\n",
      "Using 20 classifiers and sample proportion of 4\n",
      "t\tTrain\t\tTest\n",
      "1\t0.734\t\t0.702\n",
      "2\t0.394\t\t0.366\n",
      "3\t0.703\t\t0.700\n",
      "4\t0.760\t\t0.746\n",
      "5\t0.716\t\t0.732\n",
      "6\t0.629\t\t0.598\n",
      "7\t0.810\t\t0.812\n",
      "8\t0.539\t\t0.526\n",
      "9\t0.711\t\t0.724\n",
      "10\t0.809\t\t0.794\n",
      "11\t0.706\t\t0.688\n",
      "12\t0.677\t\t0.708\n",
      "13\t0.827\t\t0.812\n",
      "14\t0.679\t\t0.676\n",
      "15\t0.676\t\t0.686\n",
      "16\t0.783\t\t0.792\n",
      "17\t0.720\t\t0.690\n",
      "18\t0.667\t\t0.630\n",
      "19\t0.823\t\t0.804\n",
      "20\t0.674\t\t0.656\n",
      "Done!\n",
      "DECISION TREE SUBMODELS\n",
      "Using 20 classifiers and sample proportion of 4\n",
      "t\tTrain\t\tTest\n",
      "1\t0.677\t\t0.646\n",
      "2\t0.336\t\t0.354\n",
      "3\t0.679\t\t0.642\n",
      "4\t0.770\t\t0.756\n",
      "5\t0.770\t\t0.756\n",
      "6\t0.770\t\t0.756\n",
      "7\t0.770\t\t0.756\n",
      "8\t0.770\t\t0.756\n",
      "9\t0.770\t\t0.756\n",
      "10\t0.770\t\t0.756\n",
      "11\t0.770\t\t0.756\n",
      "12\t0.770\t\t0.756\n",
      "13\t0.770\t\t0.756\n",
      "14\t0.770\t\t0.756\n",
      "15\t0.770\t\t0.756\n",
      "16\t0.770\t\t0.756\n",
      "17\t0.770\t\t0.756\n",
      "18\t0.770\t\t0.756\n",
      "19\t0.770\t\t0.756\n",
      "20\t0.770\t\t0.756\n",
      "Done!\n",
      "9\n",
      "LINEAR SVM SUBMODELS\n",
      "Using 20 classifiers and sample proportion of 4\n",
      "t\tTrain\t\tTest\n",
      "1\t0.729\t\t0.698\n",
      "2\t0.394\t\t0.412\n",
      "3\t0.703\t\t0.702\n",
      "4\t0.771\t\t0.776\n",
      "5\t0.649\t\t0.616\n",
      "6\t0.651\t\t0.664\n",
      "7\t0.804\t\t0.786\n",
      "8\t0.699\t\t0.692\n",
      "9\t0.659\t\t0.630\n",
      "10\t0.784\t\t0.760\n",
      "11\t0.637\t\t0.604\n",
      "12\t0.654\t\t0.622\n",
      "13\t0.810\t\t0.806\n",
      "14\t0.559\t\t0.534\n",
      "15\t0.697\t\t0.718\n",
      "16\t0.787\t\t0.770\n",
      "17\t0.600\t\t0.570\n",
      "18\t0.666\t\t0.660\n",
      "19\t0.780\t\t0.780\n",
      "20\t0.519\t\t0.532\n",
      "Done!\n",
      "DECISION TREE SUBMODELS\n",
      "Using 20 classifiers and sample proportion of 4\n",
      "t\tTrain\t\tTest\n",
      "1\t0.701\t\t0.676\n",
      "2\t0.296\t\t0.330\n",
      "3\t0.691\t\t0.664\n",
      "4\t0.713\t\t0.660\n",
      "5\t0.719\t\t0.684\n",
      "6\t0.700\t\t0.654\n",
      "7\t0.657\t\t0.622\n",
      "8\t0.683\t\t0.638\n",
      "9\t0.611\t\t0.600\n",
      "10\t0.659\t\t0.626\n",
      "11\t0.619\t\t0.608\n",
      "12\t0.574\t\t0.588\n",
      "13\t0.277\t\t0.334\n",
      "14\t0.249\t\t0.286\n",
      "15\t0.251\t\t0.284\n",
      "16\t0.236\t\t0.276\n",
      "17\t0.231\t\t0.272\n",
      "18\t0.234\t\t0.268\n",
      "19\t0.230\t\t0.274\n",
      "20\t0.231\t\t0.268\n",
      "Done!\n",
      "10\n"
     ]
    }
   ],
   "source": [
    "svm_arr, tree_arr = data_size_experiment(X, y, rank=True, plots_or_table='table', verbose=True)"
   ]
  },
  {
   "cell_type": "code",
   "execution_count": 4,
   "metadata": {},
   "outputs": [
    {
     "name": "stdout",
     "output_type": "stream",
     "text": [
      "Performance on test set:\n",
      "\n",
      "\tacc\tstd\n",
      "SVM: \t0.62\t0.07\n",
      "Tree: \t0.72\t0.06\n"
     ]
    }
   ],
   "source": [
    "table_results(svm_arr, tree_arr)"
   ]
  },
  {
   "cell_type": "markdown",
   "metadata": {},
   "source": [
    "## Old W"
   ]
  },
  {
   "cell_type": "code",
   "execution_count": 625,
   "metadata": {},
   "outputs": [],
   "source": [
    "X_train, X_test, y_train, y_test = train_test_split(X, y, test_size=0.5, stratify=y)\n",
    "\n",
    "X_train = X_train[:700]\n",
    "y_train = y_train[:700]"
   ]
  },
  {
   "cell_type": "code",
   "execution_count": 626,
   "metadata": {},
   "outputs": [],
   "source": [
    "W_true = generate_W(y_train)"
   ]
  },
  {
   "cell_type": "code",
   "execution_count": 12,
   "metadata": {},
   "outputs": [],
   "source": [
    "W = generate_rank_W(X_train, y_train, m=200)"
   ]
  },
  {
   "cell_type": "code",
   "execution_count": 14,
   "metadata": {},
   "outputs": [
    {
     "data": {
      "text/plain": [
       "(0.4694485, 0.077787615)"
      ]
     },
     "execution_count": 14,
     "metadata": {},
     "output_type": "execute_result"
    }
   ],
   "source": [
    "np.mean(np.diag(W)), np.std(np.diag(W))"
   ]
  },
  {
   "cell_type": "code",
   "execution_count": 32,
   "metadata": {},
   "outputs": [],
   "source": [
    "upp = np.triu(W)\n",
    "low = np.tril(W)"
   ]
  },
  {
   "cell_type": "code",
   "execution_count": 40,
   "metadata": {},
   "outputs": [
    {
     "data": {
      "text/plain": [
       "(0.10363916, 0.14904092)"
      ]
     },
     "execution_count": 40,
     "metadata": {},
     "output_type": "execute_result"
    }
   ],
   "source": [
    "np.mean(np.abs(upp - low.T)), np.std(np.abs(upp - low.T))"
   ]
  },
  {
   "cell_type": "code",
   "execution_count": 45,
   "metadata": {},
   "outputs": [
    {
     "data": {
      "text/plain": [
       "(0.20754885181710883, 0.16431268287343714)"
      ]
     },
     "execution_count": 45,
     "metadata": {},
     "output_type": "execute_result"
    }
   ],
   "source": [
    "np.mean(np.abs(W - W_true)), np.std(np.abs(W - W_true))"
   ]
  },
  {
   "cell_type": "code",
   "execution_count": 57,
   "metadata": {},
   "outputs": [
    {
     "data": {
      "text/plain": [
       "array([[0., 1., 1.],\n",
       "       [1., 0., 1.],\n",
       "       [1., 1., 0.]])"
      ]
     },
     "execution_count": 57,
     "metadata": {},
     "output_type": "execute_result"
    }
   ],
   "source": [
    "q = np.ones((3, 3))\n",
    "q[np.diag_indices(3)] = 0\n",
    "q"
   ]
  },
  {
   "cell_type": "markdown",
   "metadata": {},
   "source": [
    "## New W"
   ]
  },
  {
   "cell_type": "code",
   "execution_count": 631,
   "metadata": {},
   "outputs": [],
   "source": [
    "# def generate_rank_data(X_train, y_train, m):\n",
    "#     \"\"\" Generates data to train a ranking model with m true labels \"\"\"\n",
    "\n",
    "#     \"\"\" Set m instead of m_rel \"\"\"\n",
    "#     # m_rel = int(m * (m - 1) / 2)\n",
    "\n",
    "#     # Get indices of upper triangle of nxn matrix\n",
    "#     n = y_train.size\n",
    "#     idx = np.triu_indices(n, k=1)\n",
    "#     idx = np.hstack((idx[0].reshape(-1, 1), idx[1].reshape(-1, 1)))\n",
    "\n",
    "#     # Randomly select m index pairs\n",
    "#     save_row = np.random.choice(idx.shape[0], size=m, replace=False)\n",
    "#     save_idx = idx[save_row]\n",
    "\n",
    "#     # Fill in new randomly sampled features and label differences\n",
    "#     X_new = np.full(shape=(2 * m, 3 * X_train.shape[1]), fill_value=np.NaN)\n",
    "#     y_new = np.full(shape=2 * m, fill_value=np.NaN)\n",
    "#     k = 0\n",
    "\n",
    "#     # Fill in two-sided ([i, j] and [j, i]) and delta features\n",
    "#     \"\"\" Two sided and delta features may not help much \"\"\"\n",
    "#     for (i,j) in save_idx:\n",
    "\n",
    "#         X_new[k]     = np.hstack((X_train[i], X_train[j], X_train[i] - X_train[j]))\n",
    "#         X_new[k + 1] = np.hstack((X_train[j], X_train[i], X_train[j] - X_train[i]))\n",
    "\n",
    "#         if y_train[i] == y_train[j]:\n",
    "#             y_new[k]     = 0.5\n",
    "#             y_new[k + 1] = 0.5\n",
    "\n",
    "#         elif y_train[i] > y_train[j]:\n",
    "#             y_new[k]     = 1.0\n",
    "#             y_new[k + 1] = 0.0\n",
    "\n",
    "#         elif y_train[i] < y_train[j]:\n",
    "#             y_new[k]     = 0.0\n",
    "#             y_new[k + 1] = 1.0\n",
    "\n",
    "#         k += 2\n",
    "\n",
    "#     return X_new, y_new, save_idx"
   ]
  },
  {
   "cell_type": "code",
   "execution_count": 632,
   "metadata": {},
   "outputs": [],
   "source": [
    "# def generate_rank_W(X_train, y_train, m, rounded):\n",
    "#     \"\"\" Generates pairwise comparison matrix W using a learned ranker trained on m true comparisons \"\"\"\n",
    "\n",
    "#     # Get m randomly sampled pairs in W to train with\n",
    "#     X_new, y_new, save_idx = generate_rank_data(X_train, y_train, m)\n",
    "\n",
    "#     # Fit regressor on given pairwise comparisons\n",
    "#     \"\"\" Change max_depth? \"\"\"\n",
    "#     reg = XGBRegressor(max_depth=5, n_estimators=100, objective='reg:squarederror')\n",
    "#     reg.fit(X_new, y_new)\n",
    "\n",
    "#     # Set up features on remaining entries in W\n",
    "#     n = y_train.size\n",
    "#     X_pair = np.full(shape=(int((n * (n - 1)) / 2), 3 * X_train.shape[1]), fill_value=np.NaN)\n",
    "#     k = 0\n",
    "\n",
    "#     # Fill in features for upper triangle of W\n",
    "#     \"\"\" Stopped halfway (upper triangle only) \"\"\"\n",
    "#     for i in range(n):\n",
    "#         for j in range(i + 1, n):\n",
    "#             X_pair[k] = np.hstack((X_train[i], X_train[j], X_train[i] - X_train[j]))\n",
    "#             k += 1\n",
    "\n",
    "#     # Make and scale (since probabilities) predictions on upper triangle of W\n",
    "#     y_pair = reg.predict(X_pair)\n",
    "#     y_pair = minmax_scale(y_pair, feature_range=(0, 1))\n",
    "    \n",
    "#     # Fill in W symmetrically\n",
    "#     W = np.full(shape=(n, n), fill_value=np.NaN)\n",
    "#     k = 0\n",
    "    \n",
    "#     for i in range(n):\n",
    "#         for j in range(i + 1, n):\n",
    "#             W[i, j] = y_pair[k]\n",
    "#             W[j, i] = 1 - y_pair[k]\n",
    "#             k += 1\n",
    "\n",
    "#     # Fill in diagonal as 0.5\n",
    "#     W[np.diag_indices(W.shape[0])] = 0.5\n",
    "\n",
    "#     # Fill in known entries in W symmetrically\n",
    "#     k = 0\n",
    "#     for (i, j) in save_idx:\n",
    "#         W[i, j] = y_new[k]\n",
    "#         W[j, i] = 1 - y_new[k]\n",
    "#         k += 1\n",
    "    \n",
    "#     # Return W rounded to nearest 0.5 if rounded\n",
    "#     if rounded:\n",
    "#         return np.round(W * 2) / 2\n",
    "#     else:\n",
    "#         return W"
   ]
  },
  {
   "cell_type": "code",
   "execution_count": 633,
   "metadata": {},
   "outputs": [],
   "source": [
    "W_new = generate_rank_W(X_train, y_train, m=200, rounded=True)"
   ]
  },
  {
   "cell_type": "code",
   "execution_count": 634,
   "metadata": {},
   "outputs": [
    {
     "data": {
      "text/plain": [
       "(0.16308571428571428, 0.23492288965026945)"
      ]
     },
     "execution_count": 634,
     "metadata": {},
     "output_type": "execute_result"
    }
   ],
   "source": [
    "# # Could also round to 0, 0.5, 1\n",
    "# W_round = np.round(W_new * 2) / 2\n",
    "# np.mean((np.abs(W_round - W_true))), np.std((np.abs(W_round - W_true))) \n",
    "\n",
    "np.mean(np.abs(W_new - W_true)), np.std(np.abs(W_new - W_true))"
   ]
  },
  {
   "cell_type": "code",
   "execution_count": 571,
   "metadata": {},
   "outputs": [
    {
     "data": {
      "text/plain": [
       "0.0"
      ]
     },
     "execution_count": 571,
     "metadata": {},
     "output_type": "execute_result"
    }
   ],
   "source": [
    "s = 0\n",
    "for i in range(700):\n",
    "    for j in range(700):\n",
    "        if W[i, j] != (1 - W[j, i]):\n",
    "            s += 1\n",
    "\n",
    "s / (700 ** 2)"
   ]
  },
  {
   "cell_type": "code",
   "execution_count": 451,
   "metadata": {},
   "outputs": [
    {
     "data": {
      "text/plain": [
       "122166.5"
      ]
     },
     "execution_count": 451,
     "metadata": {},
     "output_type": "execute_result"
    }
   ],
   "source": [
    "np.sum(np.triu(W_true, k=1)), np.sum(np.tril(W_true, k=1))"
   ]
  },
  {
   "cell_type": "code",
   "execution_count": 600,
   "metadata": {},
   "outputs": [
    {
     "name": "stdout",
     "output_type": "stream",
     "text": [
      "LINEAR SVM SUBMODELS\n",
      "Using 10 classifiers and sample proportion of 4\n",
      "t\tTrain\t\tTest\n",
      "1\t0.81\t\t0.81\n",
      "2\t0.29\t\t0.31\n",
      "3\t0.73\t\t0.74\n",
      "4\t0.32\t\t0.34\n",
      "5\t0.71\t\t0.72\n",
      "6\t0.35\t\t0.36\n",
      "7\t0.73\t\t0.72\n",
      "8\t0.38\t\t0.39\n",
      "9\t0.76\t\t0.75\n",
      "10\t0.49\t\t0.50\n",
      "Done!\n"
     ]
    },
    {
     "data": {
      "text/plain": [
       "(0.4942857142857143, 0.49859681945743684)"
      ]
     },
     "execution_count": 600,
     "metadata": {},
     "output_type": "execute_result"
    }
   ],
   "source": [
    "svm_lambdaboost(X_train, y_train, X_test, y_test, W_round, T=10, sample_prop=4)"
   ]
  },
  {
   "cell_type": "code",
   "execution_count": 620,
   "metadata": {},
   "outputs": [
    {
     "name": "stdout",
     "output_type": "stream",
     "text": [
      "DECISION TREE SUBMODELS\n",
      "Using 10 classifiers and sample proportion of 4\n",
      "t\tTrain\t\tTest\n",
      "1\t0.80\t\t0.80\n",
      "2\t0.21\t\t0.20\n",
      "3\t0.79\t\t0.80\n",
      "4\t0.21\t\t0.20\n",
      "5\t0.79\t\t0.80\n",
      "6\t0.21\t\t0.20\n",
      "7\t0.79\t\t0.80\n",
      "8\t0.21\t\t0.20\n",
      "9\t0.79\t\t0.80\n",
      "10\t0.79\t\t0.80\n",
      "Done!\n"
     ]
    },
    {
     "data": {
      "text/plain": [
       "(0.20714285714285718, 0.19706891175553476)"
      ]
     },
     "execution_count": 620,
     "metadata": {},
     "output_type": "execute_result"
    }
   ],
   "source": [
    "tree_lambdaboost(X_train, y_train, X_test, y_test, W_round, T=10, sample_prop=4)"
   ]
  }
 ],
 "metadata": {
  "kernelspec": {
   "display_name": "Python 3",
   "language": "python",
   "name": "python3"
  },
  "language_info": {
   "codemirror_mode": {
    "name": "ipython",
    "version": 3
   },
   "file_extension": ".py",
   "mimetype": "text/x-python",
   "name": "python",
   "nbconvert_exporter": "python",
   "pygments_lexer": "ipython3",
   "version": "3.7.7"
  }
 },
 "nbformat": 4,
 "nbformat_minor": 2
}
