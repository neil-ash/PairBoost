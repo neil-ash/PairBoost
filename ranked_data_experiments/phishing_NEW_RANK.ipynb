{
 "cells": [
  {
   "cell_type": "code",
   "execution_count": 2,
   "metadata": {},
   "outputs": [],
   "source": [
    "import numpy as np\n",
    "import pandas as pd\n",
    "from sklearn.datasets import load_svmlight_file\n",
    "from sklearn.model_selection import train_test_split\n",
    "import sys; sys.path.insert(0,'..')\n",
    "from main import *"
   ]
  },
  {
   "cell_type": "code",
   "execution_count": 3,
   "metadata": {},
   "outputs": [],
   "source": [
    "TRAIN_SIZE = 1000\n",
    "TEST_SIZE  = 500"
   ]
  },
  {
   "cell_type": "code",
   "execution_count": 4,
   "metadata": {},
   "outputs": [],
   "source": [
    "X, y = load_svmlight_file('../data/phishing/phishing.txt')\n",
    "X = X.toarray()\n",
    "\n",
    "# Convert labels from {0, 1} to {-1, 1}\n",
    "y = y * 2 - 1\n",
    "\n",
    "X_train, X_test, y_train, y_test = train_test_split(X, y, test_size=0.2, stratify=y)\n",
    "\n",
    "# Only use some of training data\n",
    "train_samples = np.random.permutation(X_train.shape[0])[:TRAIN_SIZE]\n",
    "X_train = X_train[train_samples]\n",
    "y_train = y_train[train_samples]\n",
    "\n",
    "# Only use some of testing data\n",
    "test_samples = np.random.permutation(X_test.shape[0])[:TEST_SIZE]\n",
    "X_test = X_test[test_samples]\n",
    "y_test = y_test[test_samples]"
   ]
  },
  {
   "cell_type": "code",
   "execution_count": 18,
   "metadata": {},
   "outputs": [],
   "source": [
    "n_s = 50\n",
    "\n",
    "pos_ind = np.squeeze(np.argwhere(y_train == 1))\n",
    "neg_ind = np.squeeze(np.argwhere(y_train == -1))\n",
    "pos_ind = pos_ind[np.random.permutation(pos_ind.shape[0])[:n_s]]\n",
    "neg_ind = neg_ind[np.random.permutation(neg_ind.shape[0])[:n_s]]\n",
    "\n",
    "rnd_c = np.random.choice([1,-1],[pos_ind.shape[0],1])\n",
    "X_pair = (X_train[pos_ind,:] - X_train[neg_ind,:]) * rnd_c\n",
    "y_pair = (y_train[pos_ind] - y_train[neg_ind]) * np.squeeze(rnd_c) / 2"
   ]
  },
  {
   "cell_type": "code",
   "execution_count": 19,
   "metadata": {},
   "outputs": [
    {
     "data": {
      "text/plain": [
       "1.0"
      ]
     },
     "execution_count": 19,
     "metadata": {},
     "output_type": "execute_result"
    }
   ],
   "source": [
    "from sklearn.svm import SVC\n",
    "\n",
    "clf = SVC(C=1.0, kernel='rbf')\n",
    "clf.fit(X_pair, y_pair)\n",
    "\n",
    "clf.score(X_pair, y_pair)"
   ]
  },
  {
   "cell_type": "code",
   "execution_count": 31,
   "metadata": {},
   "outputs": [],
   "source": [
    "ranks = [clf.decision_function(X_train)]\n",
    "sigma_k = [5]\n",
    "\n",
    "W = [gen_conf_matrix(rank, sigma) for rank,sigma in zip(ranks,sigma_k)][0]"
   ]
  },
  {
   "cell_type": "code",
   "execution_count": 32,
   "metadata": {},
   "outputs": [
    {
     "data": {
      "text/plain": [
       "((1000, 68), (1000,), (500, 68), (500,), (1000, 1000))"
      ]
     },
     "execution_count": 32,
     "metadata": {},
     "output_type": "execute_result"
    }
   ],
   "source": [
    "X_train.shape, y_train.shape, X_test.shape, y_test.shape, W.shape"
   ]
  },
  {
   "cell_type": "code",
   "execution_count": 50,
   "metadata": {},
   "outputs": [
    {
     "name": "stdout",
     "output_type": "stream",
     "text": [
      "LINEAR SVM SUBMODELS\n",
      "Using 20 classifiers and sample proportion of 1\n",
      "t\tTrain\t\tTest\n",
      "1\t0.92\t\t0.90\n",
      "2\t0.92\t\t0.89\n",
      "3\t0.92\t\t0.89\n",
      "4\t0.91\t\t0.89\n",
      "5\t0.91\t\t0.89\n",
      "6\t0.92\t\t0.90\n",
      "7\t0.91\t\t0.89\n",
      "8\t0.91\t\t0.89\n",
      "9\t0.91\t\t0.89\n",
      "10\t0.91\t\t0.89\n",
      "11\t0.91\t\t0.89\n",
      "12\t0.91\t\t0.89\n",
      "13\t0.91\t\t0.89\n",
      "14\t0.92\t\t0.89\n",
      "15\t0.92\t\t0.90\n",
      "16\t0.92\t\t0.90\n",
      "17\t0.92\t\t0.89\n",
      "18\t0.92\t\t0.90\n",
      "19\t0.92\t\t0.89\n",
      "20\t0.92\t\t0.90\n",
      "t = 1 was best iteration\n",
      "\n"
     ]
    },
    {
     "data": {
      "text/plain": [
       "(0.08299999999999996, 0.09799999999999998)"
      ]
     },
     "execution_count": 50,
     "metadata": {},
     "output_type": "execute_result"
    }
   ],
   "source": [
    "svm_lambdaboost(X_train, y_train, X_test, y_test, W)"
   ]
  },
  {
   "cell_type": "markdown",
   "metadata": {},
   "source": [
    "    BASELINES ACCURACIES\n",
    "    Guess Majority:\t 0.600\n",
    "    KNN:\t\t 0.970\n",
    "    Linear SVM:\t 0.970\n",
    "    Random Forest:\t 0.940\n",
    "    XGBoost:\t 0.940"
   ]
  }
 ],
 "metadata": {
  "kernelspec": {
   "display_name": "Python 3",
   "language": "python",
   "name": "python3"
  },
  "language_info": {
   "codemirror_mode": {
    "name": "ipython",
    "version": 3
   },
   "file_extension": ".py",
   "mimetype": "text/x-python",
   "name": "python",
   "nbconvert_exporter": "python",
   "pygments_lexer": "ipython3",
   "version": "3.7.7"
  }
 },
 "nbformat": 4,
 "nbformat_minor": 2
}
