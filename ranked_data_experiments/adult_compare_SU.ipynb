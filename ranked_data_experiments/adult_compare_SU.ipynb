{
 "cells": [
  {
   "cell_type": "code",
   "execution_count": 1,
   "metadata": {
    "scrolled": true
   },
   "outputs": [],
   "source": [
    "# %load_ext autoreload\n",
    "# %autoreload 2"
   ]
  },
  {
   "cell_type": "code",
   "execution_count": 1,
   "metadata": {},
   "outputs": [],
   "source": [
    "import numpy as np\n",
    "import pandas as pd\n",
    "from sklearn.datasets import load_svmlight_file\n",
    "from sklearn.model_selection import train_test_split\n",
    "import sys; sys.path.insert(0,'..')\n",
    "from main import *\n",
    "from su_learning import SU_DH as SU\n",
    "from su_learning import convert_su_data_sklearn_compatible"
   ]
  },
  {
   "cell_type": "code",
   "execution_count": 2,
   "metadata": {},
   "outputs": [],
   "source": [
    "X_train, y_train = load_svmlight_file('../data/adult/a5a.txt', n_features=123)\n",
    "X_train = X_train.toarray()\n",
    "\n",
    "X_test, y_test = load_svmlight_file('../data/adult/a5a.t')\n",
    "X_test = X_test.toarray()"
   ]
  },
  {
   "cell_type": "markdown",
   "metadata": {},
   "source": [
    "# SU Compare"
   ]
  },
  {
   "cell_type": "code",
   "execution_count": 4,
   "metadata": {},
   "outputs": [],
   "source": [
    "n_s = 500\n",
    "n_u = 500\n",
    "\n",
    "# Sizes of sets to sample similar, unlabeled points\n",
    "train_size = 5000\n",
    "su_cutoff  = 2500\n",
    "\n",
    "# Only use some of training data\n",
    "train_samples = np.random.permutation(X_train.shape[0])[:train_size]\n",
    "X_train = X_train[train_samples]\n",
    "y_train = y_train[train_samples]\n",
    "\n",
    "# Sample similar and unlabeled points from disjoint sets\n",
    "X_s_set = X_train[:su_cutoff]\n",
    "y_s_set = y_train[:su_cutoff]\n",
    "X_u_set = X_train[su_cutoff:]\n",
    "y_u_set = y_train[su_cutoff:]\n",
    "\n",
    "# Get positive pairs and negative pairs\n",
    "X_pos = X_s_set[np.where(y_s_set ==  1)]\n",
    "X_neg = X_s_set[np.where(y_s_set == -1)]\n",
    "\n",
    "X_pos_idx = np.random.choice(X_pos.shape[0], size=(int(n_s / 2), 2))\n",
    "X_neg_idx = np.random.choice(X_neg.shape[0], size=(int(n_s / 2), 2))\n",
    "\n",
    "# Fill in similar pairs\n",
    "X_s = np.full((n_s, X_train.shape[1] * 2), np.NaN)\n",
    "\n",
    "k = 0\n",
    "for (i, j) in X_pos_idx:\n",
    "    X_s[k] = np.hstack((X_pos[i], X_pos[j]))\n",
    "    k += 1\n",
    "    \n",
    "for (i, j) in X_neg_idx:\n",
    "    X_s[k] =np.hstack((X_neg[i], X_neg[j]))\n",
    "    k += 1\n",
    "\n",
    "# Fill in unlabeled samples\n",
    "unlabeled_samples = np.random.permutation(X_u_set.shape[0])[:n_u]\n",
    "X_u = X_u_set[unlabeled_samples]\n",
    "\n",
    "X_train, y_train = convert_su_data_sklearn_compatible(X_s, X_u)"
   ]
  },
  {
   "cell_type": "code",
   "execution_count": 13,
   "metadata": {
    "scrolled": true
   },
   "outputs": [
    {
     "name": "stdout",
     "output_type": "stream",
     "text": [
      "CPU times: user 12.3 s, sys: 167 ms, total: 12.5 s\n",
      "Wall time: 5.43 s\n"
     ]
    },
    {
     "data": {
      "text/plain": [
       "(0.7601254446016752, False, True)"
      ]
     },
     "execution_count": 13,
     "metadata": {},
     "output_type": "execute_result"
    }
   ],
   "source": [
    "%%time\n",
    "clf = SU(prior=0.3, lam=1e-04)\n",
    "clf.fit(X_train, y_train)\n",
    "\n",
    "y_pred = clf.predict(X_test)\n",
    "accuracy_score(y_test, y_pred), (y_pred == 1).all(), (y_pred == -1).all()"
   ]
  }
 ],
 "metadata": {
  "kernelspec": {
   "display_name": "Python 3",
   "language": "python",
   "name": "python3"
  },
  "language_info": {
   "codemirror_mode": {
    "name": "ipython",
    "version": 3
   },
   "file_extension": ".py",
   "mimetype": "text/x-python",
   "name": "python",
   "nbconvert_exporter": "python",
   "pygments_lexer": "ipython3",
   "version": "3.7.7"
  }
 },
 "nbformat": 4,
 "nbformat_minor": 2
}
