{
 "cells": [
  {
   "cell_type": "code",
   "execution_count": 1,
   "metadata": {
    "scrolled": true
   },
   "outputs": [],
   "source": [
    "# %load_ext autoreload\n",
    "# %autoreload 2"
   ]
  },
  {
   "cell_type": "code",
   "execution_count": 2,
   "metadata": {},
   "outputs": [],
   "source": [
    "import numpy as np\n",
    "import pandas as pd\n",
    "from sklearn.datasets import load_svmlight_file\n",
    "from sklearn.model_selection import train_test_split\n",
    "import sys; sys.path.insert(0,'..')\n",
    "from main import *"
   ]
  },
  {
   "cell_type": "code",
   "execution_count": 3,
   "metadata": {},
   "outputs": [],
   "source": [
    "X, y = load_svmlight_file('../data/adult/a5a.txt', n_features=123)\n",
    "X = X.toarray()\n",
    "\n",
    "X_train, X_test, y_train, y_test = train_test_split(X, y, test_size=0.2, \n",
    "                                                    shuffle=True, stratify=y)"
   ]
  },
  {
   "cell_type": "code",
   "execution_count": 4,
   "metadata": {},
   "outputs": [
    {
     "data": {
      "text/plain": [
       "0.985"
      ]
     },
     "execution_count": 4,
     "metadata": {},
     "output_type": "execute_result"
    }
   ],
   "source": [
    "from sklearn.svm import SVC\n",
    "\n",
    "sigma_k = [5]\n",
    "sample_size=1000\n",
    "n_s = 200\n",
    "n_u = sample_size - 2 * n_s\n",
    "n_samples = 2 * n_s + n_u\n",
    "\n",
    "x = X_train[:n_samples]\n",
    "label_train = y_train[:n_samples]\n",
    "\n",
    "pos_idx = np.squeeze(np.argwhere(y_train ==  1))\n",
    "neg_idx = np.squeeze(np.argwhere(y_train == -1))\n",
    "\n",
    "pos_idx = pos_idx[np.random.permutation(pos_idx.shape[0])[:n_s]]\n",
    "neg_idx = neg_idx[np.random.permutation(neg_idx.shape[0])[:n_s]]\n",
    "\n",
    "rnd_c = np.random.choice([1,-1], [pos_idx.shape[0], 1])\n",
    "\n",
    "X_pair = (X_train[pos_idx,:] - X_train[neg_idx,:]) * rnd_c\n",
    "y_pair = (y_train[pos_idx] - y_train[neg_idx]) * np.squeeze(rnd_c)\n",
    "\n",
    "\n",
    "clf = SVC(kernel='linear')\n",
    "clf.fit(X_pair, y_pair)\n",
    "ranks = [clf.decision_function(x)]\n",
    "#  ranks_test.append(clf.decision_function(x_test))\n",
    "\n",
    "clf.score(X_pair,y_pair)"
   ]
  },
  {
   "cell_type": "code",
   "execution_count": 5,
   "metadata": {},
   "outputs": [],
   "source": [
    "W = [gen_conf_matrix(rank, sigma) for rank,sigma in zip(ranks,sigma_k)]"
   ]
  },
  {
   "cell_type": "code",
   "execution_count": 6,
   "metadata": {},
   "outputs": [
    {
     "data": {
      "text/plain": [
       "((1000, 123), (1000,), (1000, 1000))"
      ]
     },
     "execution_count": 6,
     "metadata": {},
     "output_type": "execute_result"
    }
   ],
   "source": [
    "x.shape, label_train.shape, W[0].shape"
   ]
  },
  {
   "cell_type": "code",
   "execution_count": 17,
   "metadata": {},
   "outputs": [
    {
     "name": "stdout",
     "output_type": "stream",
     "text": [
      "LINEAR SVM SUBMODELS\n",
      "Using 20 classifiers and sample proportion of 4\n",
      "t\tTrain\t\tTest\n",
      "1\t0.721\t\t0.715\n",
      "2\t0.720\t\t0.710\n",
      "3\t0.717\t\t0.713\n",
      "4\t0.716\t\t0.714\n",
      "5\t0.719\t\t0.710\n",
      "6\t0.714\t\t0.708\n",
      "7\t0.713\t\t0.709\n",
      "8\t0.715\t\t0.708\n",
      "9\t0.714\t\t0.707\n",
      "10\t0.712\t\t0.708\n",
      "11\t0.711\t\t0.707\n",
      "12\t0.712\t\t0.706\n",
      "13\t0.712\t\t0.705\n",
      "14\t0.713\t\t0.706\n",
      "15\t0.713\t\t0.705\n",
      "16\t0.711\t\t0.705\n",
      "17\t0.711\t\t0.705\n",
      "18\t0.713\t\t0.704\n",
      "19\t0.713\t\t0.703\n",
      "20\t0.712\t\t0.705\n",
      "Done!\n"
     ]
    },
    {
     "data": {
      "text/plain": [
       "(0.28800000000000003, 0.29462197973499615)"
      ]
     },
     "execution_count": 17,
     "metadata": {},
     "output_type": "execute_result"
    }
   ],
   "source": [
    "svm_lambdaboost(x, label_train, X_test, y_test, W[0], T=20, sample_prop=4)"
   ]
  }
 ],
 "metadata": {
  "kernelspec": {
   "display_name": "Python 3",
   "language": "python",
   "name": "python3"
  },
  "language_info": {
   "codemirror_mode": {
    "name": "ipython",
    "version": 3
   },
   "file_extension": ".py",
   "mimetype": "text/x-python",
   "name": "python",
   "nbconvert_exporter": "python",
   "pygments_lexer": "ipython3",
   "version": "3.7.7"
  }
 },
 "nbformat": 4,
 "nbformat_minor": 2
}
