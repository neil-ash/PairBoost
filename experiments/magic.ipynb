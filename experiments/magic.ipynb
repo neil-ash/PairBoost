{
 "cells": [
  {
   "cell_type": "code",
   "execution_count": 1,
   "metadata": {},
   "outputs": [],
   "source": [
    "import numpy as np\n",
    "import pandas as pd\n",
    "from sklearn.preprocessing import MinMaxScaler\n",
    "from sklearn.model_selection import train_test_split\n",
    "import sys; sys.path.insert(0,'..')\n",
    "from main import *"
   ]
  },
  {
   "cell_type": "code",
   "execution_count": 23,
   "metadata": {},
   "outputs": [],
   "source": [
    "data = pd.read_csv('../data/magic/magic04.data')\n",
    "X = data.iloc[:, :-1].values\n",
    "y  = data.iloc[:, -1].values"
   ]
  },
  {
   "cell_type": "code",
   "execution_count": 24,
   "metadata": {},
   "outputs": [],
   "source": [
    "# Convert labels to -1, 1 and scale features\n",
    "y = np.array([-1.0 if yi == 'g' else 1.0 for yi in y])\n",
    "\n",
    "scaler = MinMaxScaler(feature_range=(0, 1))\n",
    "\n",
    "for i in range(X.shape[1]):\n",
    "    X[:, i] = scaler.fit_transform(X[:, i].reshape(-1, 1)).ravel()"
   ]
  },
  {
   "cell_type": "code",
   "execution_count": 31,
   "metadata": {},
   "outputs": [],
   "source": [
    "X_train, X_test, y_train, y_test = train_test_split(X, y, test_size=0.2, stratify=y)\n",
    "\n",
    "# Only use some of training data\n",
    "sample_size = 5000\n",
    "random_samples = np.random.permutation(X_train.shape[0])[:sample_size]\n",
    "X_train = X_train[random_samples]\n",
    "y_train = y_train[random_samples]"
   ]
  },
  {
   "cell_type": "code",
   "execution_count": 34,
   "metadata": {},
   "outputs": [],
   "source": [
    "W = generate_W(y_train)"
   ]
  },
  {
   "cell_type": "code",
   "execution_count": 35,
   "metadata": {},
   "outputs": [
    {
     "name": "stdout",
     "output_type": "stream",
     "text": [
      "LINEAR SVM SUBMODELS\n",
      "Using 20 classifiers, sample proportion of 4, and random seed 1\n",
      "t\tTrain\t\tTest\n",
      "1\t0.785\t\t0.791\n",
      "2\t0.787\t\t0.792\n",
      "3\t0.786\t\t0.792\n",
      "4\t0.786\t\t0.792\n",
      "5\t0.785\t\t0.792\n",
      "6\t0.785\t\t0.792\n",
      "7\t0.785\t\t0.792\n",
      "8\t0.786\t\t0.792\n",
      "9\t0.785\t\t0.792\n",
      "10\t0.786\t\t0.793\n",
      "11\t0.786\t\t0.793\n",
      "12\t0.787\t\t0.793\n",
      "13\t0.787\t\t0.793\n",
      "14\t0.787\t\t0.793\n",
      "15\t0.788\t\t0.794\n",
      "16\t0.788\t\t0.794\n",
      "17\t0.788\t\t0.794\n",
      "18\t0.789\t\t0.794\n",
      "19\t0.788\t\t0.794\n",
      "20\t0.788\t\t0.794\n",
      "Done!\n"
     ]
    }
   ],
   "source": [
    "svm_lambdaboost(X_train, y_train, X_test, y_test, W);"
   ]
  },
  {
   "cell_type": "code",
   "execution_count": 36,
   "metadata": {},
   "outputs": [
    {
     "name": "stdout",
     "output_type": "stream",
     "text": [
      "DECISION TREE SUBMODELS\n",
      "Using 20 classifiers, sample proportion of 4, and random seed 1\n",
      "t\tTrain\t\tTest\n",
      "1\t0.833\t\t0.816\n",
      "2\t0.215\t\t0.221\n",
      "3\t0.841\t\t0.825\n",
      "4\t0.841\t\t0.825\n",
      "5\t0.853\t\t0.838\n",
      "6\t0.864\t\t0.849\n",
      "7\t0.864\t\t0.848\n",
      "8\t0.864\t\t0.849\n",
      "9\t0.869\t\t0.851\n",
      "10\t0.870\t\t0.851\n",
      "11\t0.876\t\t0.851\n",
      "12\t0.875\t\t0.852\n",
      "13\t0.879\t\t0.851\n",
      "14\t0.878\t\t0.853\n",
      "15\t0.881\t\t0.852\n",
      "16\t0.880\t\t0.855\n",
      "17\t0.877\t\t0.852\n",
      "18\t0.882\t\t0.855\n",
      "19\t0.883\t\t0.855\n",
      "20\t0.881\t\t0.855\n",
      "Done!\n"
     ]
    }
   ],
   "source": [
    "tree_lambdaboost(X_train, y_train, X_test, y_test, W);"
   ]
  },
  {
   "cell_type": "code",
   "execution_count": 39,
   "metadata": {},
   "outputs": [
    {
     "name": "stdout",
     "output_type": "stream",
     "text": [
      "KNN:\t\t 0.83\n",
      "Linear SVM:\t 0.80\n",
      "Random Forest:\t 0.81\n",
      "XGBoost:\t 0.85\n"
     ]
    }
   ],
   "source": [
    "baselines(X_train, y_train, X_test, y_test)"
   ]
  }
 ],
 "metadata": {
  "kernelspec": {
   "display_name": "Python 3",
   "language": "python",
   "name": "python3"
  },
  "language_info": {
   "codemirror_mode": {
    "name": "ipython",
    "version": 3
   },
   "file_extension": ".py",
   "mimetype": "text/x-python",
   "name": "python",
   "nbconvert_exporter": "python",
   "pygments_lexer": "ipython3",
   "version": "3.7.4"
  }
 },
 "nbformat": 4,
 "nbformat_minor": 2
}
