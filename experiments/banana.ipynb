{
 "cells": [
  {
   "cell_type": "code",
   "execution_count": 1,
   "metadata": {},
   "outputs": [],
   "source": [
    "import numpy as np\n",
    "import pandas as pd\n",
    "from sklearn.model_selection import train_test_split\n",
    "import sys; sys.path.insert(0,'..')\n",
    "from main import *"
   ]
  },
  {
   "cell_type": "code",
   "execution_count": 2,
   "metadata": {},
   "outputs": [],
   "source": [
    "data = pd.read_csv('../data/banana/banana.csv')\n",
    "X = data[['V1', 'V2']].values\n",
    "y = data['Class'].values\n",
    "\n",
    "# Since classes are 1, 2\n",
    "y = (y - 1) * 2 - 1\n",
    "\n",
    "X_train, X_test, y_train, y_test = train_test_split(X, y, test_size=0.2, stratify=y)"
   ]
  },
  {
   "cell_type": "code",
   "execution_count": 3,
   "metadata": {},
   "outputs": [],
   "source": [
    "W = generate_W(y_train)"
   ]
  },
  {
   "cell_type": "code",
   "execution_count": 4,
   "metadata": {},
   "outputs": [
    {
     "name": "stdout",
     "output_type": "stream",
     "text": [
      "LINEAR SVM SUBMODELS\n",
      "Using 20 classifiers, sample proportion of 4, and random seed 1\n",
      "t\tTrain\t\tTest\n",
      "1\t0.581\t\t0.555\n",
      "2\t0.443\t\t0.470\n",
      "3\t0.615\t\t0.592\n",
      "4\t0.455\t\t0.438\n",
      "5\t0.438\t\t0.443\n",
      "6\t0.612\t\t0.586\n",
      "7\t0.543\t\t0.516\n",
      "8\t0.448\t\t0.448\n",
      "9\t0.448\t\t0.448\n",
      "10\t0.545\t\t0.522\n",
      "11\t0.423\t\t0.419\n",
      "12\t0.448\t\t0.448\n",
      "13\t0.448\t\t0.448\n",
      "14\t0.421\t\t0.412\n",
      "15\t0.448\t\t0.448\n",
      "16\t0.448\t\t0.448\n",
      "17\t0.447\t\t0.434\n",
      "18\t0.444\t\t0.436\n",
      "19\t0.448\t\t0.448\n",
      "20\t0.448\t\t0.448\n",
      "Done!\n"
     ]
    }
   ],
   "source": [
    "svm_lambdaboost(X_train, y_train, X_test, y_test, W);"
   ]
  },
  {
   "cell_type": "code",
   "execution_count": 5,
   "metadata": {},
   "outputs": [
    {
     "name": "stdout",
     "output_type": "stream",
     "text": [
      "DECISION TREE SUBMODELS\n",
      "Using 20 classifiers, sample proportion of 4, and random seed 1\n",
      "t\tTrain\t\tTest\n",
      "1\t0.877\t\t0.861\n",
      "2\t0.877\t\t0.861\n",
      "3\t0.887\t\t0.874\n",
      "4\t0.887\t\t0.874\n",
      "5\t0.903\t\t0.889\n",
      "6\t0.908\t\t0.888\n",
      "7\t0.908\t\t0.888\n",
      "8\t0.901\t\t0.875\n",
      "9\t0.906\t\t0.883\n",
      "10\t0.907\t\t0.887\n",
      "11\t0.910\t\t0.892\n",
      "12\t0.907\t\t0.886\n",
      "13\t0.912\t\t0.889\n",
      "14\t0.912\t\t0.887\n",
      "15\t0.914\t\t0.889\n",
      "16\t0.914\t\t0.889\n",
      "17\t0.914\t\t0.890\n",
      "18\t0.914\t\t0.889\n",
      "19\t0.913\t\t0.889\n",
      "20\t0.914\t\t0.892\n",
      "Done!\n"
     ]
    }
   ],
   "source": [
    "tree_lambdaboost(X_train, y_train, X_test, y_test, W);"
   ]
  },
  {
   "cell_type": "code",
   "execution_count": 6,
   "metadata": {},
   "outputs": [
    {
     "name": "stdout",
     "output_type": "stream",
     "text": [
      "BASELINES ACCURACIES\n",
      "Guess Majority:\t 0.552\n",
      "----------------------\n",
      "KNN:\t\t 0.892\n",
      "Linear SVM:\t 0.510\n",
      "Random Forest:\t 0.801\n",
      "XGBoost:\t 0.868\n"
     ]
    }
   ],
   "source": [
    "baselines(X_train, y_train, X_test, y_test)"
   ]
  }
 ],
 "metadata": {
  "kernelspec": {
   "display_name": "Python 3",
   "language": "python",
   "name": "python3"
  },
  "language_info": {
   "codemirror_mode": {
    "name": "ipython",
    "version": 3
   },
   "file_extension": ".py",
   "mimetype": "text/x-python",
   "name": "python",
   "nbconvert_exporter": "python",
   "pygments_lexer": "ipython3",
   "version": "3.7.4"
  }
 },
 "nbformat": 4,
 "nbformat_minor": 2
}
