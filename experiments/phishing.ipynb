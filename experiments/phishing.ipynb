{
 "cells": [
  {
   "cell_type": "code",
   "execution_count": 1,
   "metadata": {},
   "outputs": [],
   "source": [
    "import numpy as np\n",
    "import pandas as pd\n",
    "from sklearn.datasets import load_svmlight_file\n",
    "from sklearn.model_selection import train_test_split\n",
    "import sys; sys.path.insert(0,'..')\n",
    "from main import *"
   ]
  },
  {
   "cell_type": "code",
   "execution_count": 2,
   "metadata": {},
   "outputs": [],
   "source": [
    "X, y = load_svmlight_file('../data/phishing/phishing.txt')\n",
    "X = X.toarray()\n",
    "\n",
    "# Convert labels from {0, 1} to {-1, 1}\n",
    "y = y * 2 - 1\n",
    "\n",
    "X_train, X_test, y_train, y_test = train_test_split(X, y, test_size=0.2, stratify=y)\n",
    "\n",
    "# Only use some of training data\n",
    "sample_size = 5000\n",
    "random_samples = np.random.permutation(X_train.shape[0])[:sample_size]\n",
    "X_train = X_train[random_samples]\n",
    "y_train = y_train[random_samples]"
   ]
  },
  {
   "cell_type": "code",
   "execution_count": 3,
   "metadata": {},
   "outputs": [],
   "source": [
    "W = generate_W(y_train)"
   ]
  },
  {
   "cell_type": "code",
   "execution_count": 4,
   "metadata": {},
   "outputs": [
    {
     "name": "stdout",
     "output_type": "stream",
     "text": [
      "LINEAR SVM SUBMODELS\n",
      "Using 20 classifiers, sample proportion of 4, and random seed 1\n",
      "t\tTrain\t\tTest\n",
      "1\t0.940\t\t0.936\n",
      "2\t0.941\t\t0.937\n",
      "3\t0.941\t\t0.936\n",
      "4\t0.942\t\t0.934\n",
      "5\t0.942\t\t0.933\n",
      "6\t0.940\t\t0.934\n",
      "7\t0.940\t\t0.934\n",
      "8\t0.941\t\t0.934\n",
      "9\t0.941\t\t0.934\n",
      "10\t0.942\t\t0.934\n",
      "11\t0.940\t\t0.934\n",
      "12\t0.939\t\t0.933\n",
      "13\t0.939\t\t0.933\n",
      "14\t0.940\t\t0.934\n",
      "15\t0.940\t\t0.934\n",
      "16\t0.940\t\t0.934\n",
      "17\t0.940\t\t0.934\n",
      "18\t0.940\t\t0.934\n",
      "19\t0.940\t\t0.934\n",
      "20\t0.939\t\t0.934\n",
      "Done!\n"
     ]
    }
   ],
   "source": [
    "svm_lambdaboost(X_train, y_train, X_test, y_test, W);"
   ]
  },
  {
   "cell_type": "code",
   "execution_count": 5,
   "metadata": {},
   "outputs": [
    {
     "name": "stdout",
     "output_type": "stream",
     "text": [
      "DECISION TREE SUBMODELS\n",
      "Using 20 classifiers, sample proportion of 4, and random seed 1\n",
      "t\tTrain\t\tTest\n",
      "1\t0.922\t\t0.916\n",
      "2\t0.922\t\t0.916\n",
      "3\t0.906\t\t0.896\n",
      "4\t0.912\t\t0.905\n",
      "5\t0.905\t\t0.899\n",
      "6\t0.913\t\t0.909\n",
      "7\t0.932\t\t0.926\n",
      "8\t0.934\t\t0.929\n",
      "9\t0.935\t\t0.927\n",
      "10\t0.933\t\t0.924\n",
      "11\t0.937\t\t0.927\n",
      "12\t0.939\t\t0.931\n",
      "13\t0.942\t\t0.934\n",
      "14\t0.946\t\t0.937\n",
      "15\t0.948\t\t0.936\n",
      "16\t0.949\t\t0.940\n",
      "17\t0.949\t\t0.941\n",
      "18\t0.950\t\t0.940\n",
      "19\t0.947\t\t0.939\n",
      "20\t0.949\t\t0.940\n",
      "Done!\n"
     ]
    }
   ],
   "source": [
    "tree_lambdaboost(X_train, y_train, X_test, y_test, W);"
   ]
  },
  {
   "cell_type": "code",
   "execution_count": 6,
   "metadata": {},
   "outputs": [
    {
     "name": "stdout",
     "output_type": "stream",
     "text": [
      "KNN:\t\t 0.94\n",
      "Linear SVM:\t 0.93\n",
      "Random Forest:\t 0.92\n",
      "XGBoost:\t 0.91\n"
     ]
    }
   ],
   "source": [
    "baselines(X_train, y_train, X_test, y_test)"
   ]
  }
 ],
 "metadata": {
  "kernelspec": {
   "display_name": "Python 3",
   "language": "python",
   "name": "python3"
  },
  "language_info": {
   "codemirror_mode": {
    "name": "ipython",
    "version": 3
   },
   "file_extension": ".py",
   "mimetype": "text/x-python",
   "name": "python",
   "nbconvert_exporter": "python",
   "pygments_lexer": "ipython3",
   "version": "3.7.4"
  }
 },
 "nbformat": 4,
 "nbformat_minor": 2
}
