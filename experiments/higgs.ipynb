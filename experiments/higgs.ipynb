{
 "cells": [
  {
   "cell_type": "code",
   "execution_count": 1,
   "metadata": {},
   "outputs": [],
   "source": [
    "import numpy as np\n",
    "import pandas as pd\n",
    "from sklearn.model_selection import train_test_split\n",
    "import sys; sys.path.insert(0,'..')\n",
    "from main import *"
   ]
  },
  {
   "cell_type": "code",
   "execution_count": 3,
   "metadata": {},
   "outputs": [],
   "source": [
    "data = np.loadtxt('../data/higgs/training.csv', delimiter=',', skiprows=1, \n",
    "                  converters={32: lambda x:int(x=='s'.encode('utf-8'))})\n",
    "\n",
    "X = data[:,1:31]\n",
    "y = data[:,32]\n",
    "\n",
    "# Convert labels from {0, 1} to {-1, 1}\n",
    "y = y * 2 - 1\n",
    "\n",
    "X_train, X_test, y_train, y_test = train_test_split(X, y, test_size=0.2, stratify=y)\n",
    "\n",
    "# Only use some of training data\n",
    "sample_size = 5000\n",
    "random_samples = np.random.permutation(X_train.shape[0])[:sample_size]\n",
    "X_train = X_train[random_samples]\n",
    "y_train = y_train[random_samples]"
   ]
  },
  {
   "cell_type": "code",
   "execution_count": 4,
   "metadata": {},
   "outputs": [],
   "source": [
    "W = generate_W(y_train)"
   ]
  },
  {
   "cell_type": "code",
   "execution_count": 5,
   "metadata": {},
   "outputs": [
    {
     "name": "stdout",
     "output_type": "stream",
     "text": [
      "LINEAR SVM SUBMODELS\n",
      "Using 10 classifiers, sample proportion of 1, and random seed 1\n"
     ]
    },
    {
     "name": "stderr",
     "output_type": "stream",
     "text": [
      "/Users/Ashtekar15/opt/anaconda3/lib/python3.7/site-packages/sklearn/svm/base.py:929: ConvergenceWarning: Liblinear failed to converge, increase the number of iterations.\n",
      "  \"the number of iterations.\", ConvergenceWarning)\n"
     ]
    },
    {
     "name": "stdout",
     "output_type": "stream",
     "text": [
      "t\tTrain\t\tTest\n",
      "1\t0.662\t\t0.665\n"
     ]
    },
    {
     "name": "stderr",
     "output_type": "stream",
     "text": [
      "/Users/Ashtekar15/opt/anaconda3/lib/python3.7/site-packages/sklearn/svm/base.py:929: ConvergenceWarning: Liblinear failed to converge, increase the number of iterations.\n",
      "  \"the number of iterations.\", ConvergenceWarning)\n"
     ]
    },
    {
     "name": "stdout",
     "output_type": "stream",
     "text": [
      "2\t0.641\t\t0.646\n",
      "Alpha -0.098, terminated\n",
      "Done!\n"
     ]
    }
   ],
   "source": [
    "svm_lambdaboost(X_train, y_train, X_test, y_test, W, T=10, SAMPLE_PROP=1);"
   ]
  },
  {
   "cell_type": "code",
   "execution_count": 6,
   "metadata": {},
   "outputs": [
    {
     "name": "stdout",
     "output_type": "stream",
     "text": [
      "DECISION TREE SUBMODELS\n",
      "Using 20 classifiers, sample proportion of 4, and random seed 1\n",
      "t\tTrain\t\tTest\n",
      "1\t0.773\t\t0.756\n",
      "2\t0.269\t\t0.267\n",
      "3\t0.778\t\t0.755\n",
      "4\t0.778\t\t0.755\n",
      "5\t0.832\t\t0.801\n",
      "6\t0.834\t\t0.800\n",
      "7\t0.813\t\t0.787\n",
      "8\t0.835\t\t0.801\n",
      "9\t0.834\t\t0.804\n",
      "10\t0.841\t\t0.808\n",
      "11\t0.837\t\t0.807\n",
      "12\t0.846\t\t0.811\n",
      "13\t0.843\t\t0.810\n",
      "14\t0.849\t\t0.811\n",
      "15\t0.847\t\t0.811\n",
      "16\t0.851\t\t0.813\n",
      "17\t0.852\t\t0.816\n",
      "18\t0.853\t\t0.817\n",
      "19\t0.855\t\t0.818\n",
      "20\t0.856\t\t0.820\n",
      "Done!\n"
     ]
    }
   ],
   "source": [
    "tree_lambdaboost(X_train, y_train, X_test, y_test, W);"
   ]
  },
  {
   "cell_type": "code",
   "execution_count": 7,
   "metadata": {},
   "outputs": [
    {
     "name": "stdout",
     "output_type": "stream",
     "text": [
      "BASELINES ACCURACIES\n"
     ]
    },
    {
     "name": "stderr",
     "output_type": "stream",
     "text": [
      "/Users/Ashtekar15/opt/anaconda3/lib/python3.7/site-packages/sklearn/svm/base.py:929: ConvergenceWarning: Liblinear failed to converge, increase the number of iterations.\n",
      "  \"the number of iterations.\", ConvergenceWarning)\n"
     ]
    },
    {
     "name": "stdout",
     "output_type": "stream",
     "text": [
      "Guess Majority:\t 0.657\n",
      "KNN:\t\t 0.763\n",
      "Linear SVM:\t 0.698\n",
      "Random Forest:\t 0.750\n",
      "XGBoost:\t 0.818\n"
     ]
    }
   ],
   "source": [
    "baselines(X_train, y_train, X_test, y_test)"
   ]
  }
 ],
 "metadata": {
  "kernelspec": {
   "display_name": "Python 3",
   "language": "python",
   "name": "python3"
  },
  "language_info": {
   "codemirror_mode": {
    "name": "ipython",
    "version": 3
   },
   "file_extension": ".py",
   "mimetype": "text/x-python",
   "name": "python",
   "nbconvert_exporter": "python",
   "pygments_lexer": "ipython3",
   "version": "3.7.4"
  }
 },
 "nbformat": 4,
 "nbformat_minor": 2
}
