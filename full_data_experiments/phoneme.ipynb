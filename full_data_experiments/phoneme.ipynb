{
 "cells": [
  {
   "cell_type": "code",
   "execution_count": 1,
   "metadata": {},
   "outputs": [],
   "source": [
    "import numpy as np\n",
    "import pandas as pd\n",
    "from sklearn.preprocessing import MinMaxScaler\n",
    "from sklearn.model_selection import train_test_split\n",
    "import sys; sys.path.insert(0,'..')\n",
    "from main import *"
   ]
  },
  {
   "cell_type": "code",
   "execution_count": 22,
   "metadata": {},
   "outputs": [],
   "source": [
    "data = pd.read_csv('../data/phoneme/phoneme.csv')\n",
    "X = data.iloc[:, :-1].values\n",
    "y  = data.iloc[:, -1].values\n",
    "\n",
    "# Convert labels to -1, 1 and scale features\n",
    "y = np.array([1.0 if yi == 2 else -1.0 for yi in y])\n",
    "\n",
    "scaler = MinMaxScaler(feature_range=(0, 1))\n",
    "\n",
    "for i in range(X.shape[1]):\n",
    "    X[:, i] = scaler.fit_transform(X[:, i].reshape(-1, 1)).ravel()\n",
    "\n",
    "X_train, X_test, y_train, y_test = train_test_split(X, y, test_size=0.2, stratify=y)"
   ]
  },
  {
   "cell_type": "code",
   "execution_count": 23,
   "metadata": {},
   "outputs": [],
   "source": [
    "W = generate_W(y_train)"
   ]
  },
  {
   "cell_type": "code",
   "execution_count": 24,
   "metadata": {},
   "outputs": [
    {
     "name": "stdout",
     "output_type": "stream",
     "text": [
      "LINEAR SVM SUBMODELS\n",
      "Using 20 classifiers, sample proportion of 4, and random seed 1\n",
      "t\tTrain\t\tTest\n",
      "1\t0.728\t\t0.737\n",
      "2\t0.511\t\t0.522\n",
      "3\t0.561\t\t0.575\n",
      "4\t0.437\t\t0.461\n",
      "5\t0.288\t\t0.317\n",
      "6\t0.288\t\t0.317\n",
      "7\t0.459\t\t0.463\n",
      "8\t0.288\t\t0.317\n",
      "9\t0.288\t\t0.317\n",
      "10\t0.288\t\t0.317\n",
      "11\t0.288\t\t0.317\n",
      "12\t0.288\t\t0.317\n",
      "13\t0.288\t\t0.317\n",
      "14\t0.288\t\t0.317\n",
      "15\t0.288\t\t0.317\n",
      "16\t0.288\t\t0.317\n",
      "17\t0.288\t\t0.317\n",
      "18\t0.288\t\t0.317\n",
      "19\t0.288\t\t0.317\n",
      "20\t0.288\t\t0.317\n",
      "Done!\n"
     ]
    }
   ],
   "source": [
    "svm_lambdaboost(X_train, y_train, X_test, y_test, W);"
   ]
  },
  {
   "cell_type": "code",
   "execution_count": 25,
   "metadata": {},
   "outputs": [
    {
     "name": "stdout",
     "output_type": "stream",
     "text": [
      "DECISION TREE SUBMODELS\n",
      "Using 20 classifiers, sample proportion of 4, and random seed 1\n",
      "t\tTrain\t\tTest\n",
      "1\t0.821\t\t0.806\n",
      "2\t0.215\t\t0.212\n",
      "3\t0.823\t\t0.808\n",
      "4\t0.823\t\t0.808\n",
      "5\t0.851\t\t0.835\n",
      "6\t0.853\t\t0.838\n",
      "7\t0.853\t\t0.838\n",
      "8\t0.857\t\t0.828\n",
      "9\t0.861\t\t0.847\n",
      "10\t0.865\t\t0.836\n",
      "11\t0.869\t\t0.849\n",
      "12\t0.881\t\t0.858\n",
      "13\t0.878\t\t0.858\n",
      "14\t0.884\t\t0.855\n",
      "15\t0.882\t\t0.857\n",
      "16\t0.891\t\t0.858\n",
      "17\t0.894\t\t0.862\n",
      "18\t0.893\t\t0.868\n",
      "19\t0.895\t\t0.865\n",
      "20\t0.893\t\t0.861\n",
      "Done!\n"
     ]
    }
   ],
   "source": [
    "tree_lambdaboost(X_train, y_train, X_test, y_test, W);"
   ]
  },
  {
   "cell_type": "code",
   "execution_count": 26,
   "metadata": {},
   "outputs": [
    {
     "name": "stdout",
     "output_type": "stream",
     "text": [
      "KNN:\t\t 0.88\n",
      "Linear SVM:\t 0.75\n",
      "Random Forest:\t 0.80\n",
      "XGBoost:\t 0.82\n"
     ]
    }
   ],
   "source": [
    "baselines(X_train, y_train, X_test, y_test)"
   ]
  }
 ],
 "metadata": {
  "kernelspec": {
   "display_name": "Python 3",
   "language": "python",
   "name": "python3"
  },
  "language_info": {
   "codemirror_mode": {
    "name": "ipython",
    "version": 3
   },
   "file_extension": ".py",
   "mimetype": "text/x-python",
   "name": "python",
   "nbconvert_exporter": "python",
   "pygments_lexer": "ipython3",
   "version": "3.7.4"
  }
 },
 "nbformat": 4,
 "nbformat_minor": 2
}
