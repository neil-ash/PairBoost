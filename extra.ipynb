{
 "cells": [
  {
   "cell_type": "code",
   "execution_count": null,
   "metadata": {},
   "outputs": [],
   "source": [
    "\"\"\" Comparing against KMeans clustering (verify with table) \"\"\"\n",
    "from sklearn.cluster import KMeans\n",
    "\n",
    "s = 0\n",
    "\n",
    "for i in range(20):\n",
    "    km = KMeans(n_clusters=2)\n",
    "    km.fit(X_train)\n",
    "    y_pred = km.predict(X_test) * 2 - 1\n",
    "    acc = accuracy_score(y_test, y_pred)\n",
    "    s += max(acc, 1 - acc)\n",
    "\n",
    "s / 20"
   ]
  },
  {
   "cell_type": "code",
   "execution_count": null,
   "metadata": {},
   "outputs": [],
   "source": [
    "\"\"\" Adding noise to W \"\"\"\n",
    "from sklearn.preprocessing import minmax_scale\n",
    "\n",
    "# Magnitude 0.5 -> {-0.25, 0.25}\n",
    "mag = 0.5\n",
    "noise = np.random.rand(W.shape[0], W.shape[1]) * mag - (mag / 2)\n",
    "W = W + noise\n",
    "W = minmax_scale(W, feature_range=(0, 0.999))"
   ]
  },
  {
   "cell_type": "code",
   "execution_count": null,
   "metadata": {},
   "outputs": [],
   "source": [
    "\"\"\" Use ranking to generate W \"\"\"\n",
    "from sklearn.svm import SVC\n",
    "\n",
    "clf = SVC(kernel='linear', max_iter=-1)\n",
    "clf.fit(X_train, y_train)\n",
    "ranks = [clf.decision_function(X_train)]\n",
    "print('Linear SVM Accuracy: %.2f' % clf.score(X_train, y_train))\n",
    "\n",
    "sigma_k = [5]\n",
    "W = [gen_conf_matrix(rank, sigma) for rank,sigma in zip(ranks,sigma_k)]\n",
    "W = W[0]"
   ]
  }
 ],
 "metadata": {
  "kernelspec": {
   "display_name": "Python 3",
   "language": "python",
   "name": "python3"
  },
  "language_info": {
   "codemirror_mode": {
    "name": "ipython",
    "version": 3
   },
   "file_extension": ".py",
   "mimetype": "text/x-python",
   "name": "python",
   "nbconvert_exporter": "python",
   "pygments_lexer": "ipython3",
   "version": "3.7.4"
  }
 },
 "nbformat": 4,
 "nbformat_minor": 2
}
